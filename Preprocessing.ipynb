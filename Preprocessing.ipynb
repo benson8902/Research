{
 "cells": [
  {
   "cell_type": "code",
   "execution_count": 1,
   "id": "55738190",
   "metadata": {},
   "outputs": [],
   "source": [
    "import scanpy as sc\n",
    "import pandas as pd\n",
    "import numpy as np\n",
    "\n",
    "import matplotlib.pyplot as plt"
   ]
  },
  {
   "cell_type": "markdown",
   "id": "69649c76",
   "metadata": {},
   "source": [
    "# Save Path"
   ]
  },
  {
   "cell_type": "code",
   "execution_count": 2,
   "id": "625a0980",
   "metadata": {},
   "outputs": [],
   "source": [
    "import os\n",
    "from pathlib import Path"
   ]
  },
  {
   "cell_type": "code",
   "execution_count": 3,
   "id": "ad0844c3",
   "metadata": {},
   "outputs": [],
   "source": [
    "outputs_folder = Path('C:\\\\Users\\\\User\\\\Desktop\\\\論文\\\\Code')\n",
    "# 將分析的結果儲存到 outputs_folder 中\n",
    "results_file = outputs_folder / 'test.h5ad'"
   ]
  },
  {
   "cell_type": "code",
   "execution_count": 4,
   "id": "f022023d",
   "metadata": {},
   "outputs": [
    {
     "name": "stdout",
     "output_type": "stream",
     "text": [
      "C:\\Users\\User\\Desktop\\論文\\Code\n"
     ]
    }
   ],
   "source": [
    "import pathlib\n",
    "print(pathlib.Path().absolute())"
   ]
  },
  {
   "cell_type": "markdown",
   "id": "6ee5e5b8",
   "metadata": {},
   "source": [
    "# Step 1 Data Prepocessing, Normalize, Dimension Reduction"
   ]
  },
  {
   "cell_type": "code",
   "execution_count": 20,
   "id": "61b76730",
   "metadata": {},
   "outputs": [],
   "source": [
    "adata = sc.read_mtx(\"C:\\\\Users\\\\User\\\\Desktop\\\\論文\\\\PBMC_Data\\\\GSE180578(10 healthy)\\\\HD1_HD2_PBMC\\\\matrix.mtx\")\n",
    "\n",
    "gene = pd.read_table(\"C:\\\\Users\\\\User\\\\Desktop\\\\論文\\\\PBMC_Data\\\\GSE180578(10 healthy)\\\\HD1_HD2_PBMC\\\\features.tsv\", header = None)\n",
    "\n",
    "barcode = pd.read_table(\"C:\\\\Users\\\\User\\\\Desktop\\\\論文\\\\PBMC_Data\\\\GSE180578(10 healthy)\\\\HD1_HD2_PBMC\\\\barcodes.tsv\", header = None)\n"
   ]
  },
  {
   "cell_type": "code",
   "execution_count": 21,
   "id": "d5a2d483",
   "metadata": {},
   "outputs": [
    {
     "data": {
      "text/html": [
       "<div>\n",
       "<style scoped>\n",
       "    .dataframe tbody tr th:only-of-type {\n",
       "        vertical-align: middle;\n",
       "    }\n",
       "\n",
       "    .dataframe tbody tr th {\n",
       "        vertical-align: top;\n",
       "    }\n",
       "\n",
       "    .dataframe thead th {\n",
       "        text-align: right;\n",
       "    }\n",
       "</style>\n",
       "<table border=\"1\" class=\"dataframe\">\n",
       "  <thead>\n",
       "    <tr style=\"text-align: right;\">\n",
       "      <th></th>\n",
       "      <th>0</th>\n",
       "      <th>1</th>\n",
       "      <th>2</th>\n",
       "    </tr>\n",
       "  </thead>\n",
       "  <tbody>\n",
       "    <tr>\n",
       "      <th>0</th>\n",
       "      <td>ENSG00000243485</td>\n",
       "      <td>MIR1302-2HG</td>\n",
       "      <td>Gene Expression</td>\n",
       "    </tr>\n",
       "    <tr>\n",
       "      <th>1</th>\n",
       "      <td>ENSG00000237613</td>\n",
       "      <td>FAM138A</td>\n",
       "      <td>Gene Expression</td>\n",
       "    </tr>\n",
       "    <tr>\n",
       "      <th>2</th>\n",
       "      <td>ENSG00000186092</td>\n",
       "      <td>OR4F5</td>\n",
       "      <td>Gene Expression</td>\n",
       "    </tr>\n",
       "    <tr>\n",
       "      <th>3</th>\n",
       "      <td>ENSG00000238009</td>\n",
       "      <td>AL627309.1</td>\n",
       "      <td>Gene Expression</td>\n",
       "    </tr>\n",
       "    <tr>\n",
       "      <th>4</th>\n",
       "      <td>ENSG00000239945</td>\n",
       "      <td>AL627309.3</td>\n",
       "      <td>Gene Expression</td>\n",
       "    </tr>\n",
       "    <tr>\n",
       "      <th>...</th>\n",
       "      <td>...</td>\n",
       "      <td>...</td>\n",
       "      <td>...</td>\n",
       "    </tr>\n",
       "    <tr>\n",
       "      <th>33534</th>\n",
       "      <td>ENSG00000275063</td>\n",
       "      <td>AC233755.1</td>\n",
       "      <td>Gene Expression</td>\n",
       "    </tr>\n",
       "    <tr>\n",
       "      <th>33535</th>\n",
       "      <td>ENSG00000271254</td>\n",
       "      <td>AC240274.1</td>\n",
       "      <td>Gene Expression</td>\n",
       "    </tr>\n",
       "    <tr>\n",
       "      <th>33536</th>\n",
       "      <td>ENSG00000277475</td>\n",
       "      <td>AC213203.1</td>\n",
       "      <td>Gene Expression</td>\n",
       "    </tr>\n",
       "    <tr>\n",
       "      <th>33537</th>\n",
       "      <td>ENSG00000268674</td>\n",
       "      <td>FAM231C</td>\n",
       "      <td>Gene Expression</td>\n",
       "    </tr>\n",
       "    <tr>\n",
       "      <th>33538</th>\n",
       "      <td>SARSCOV2</td>\n",
       "      <td>SARSCOV2</td>\n",
       "      <td>Gene Expression</td>\n",
       "    </tr>\n",
       "  </tbody>\n",
       "</table>\n",
       "<p>33539 rows × 3 columns</p>\n",
       "</div>"
      ],
      "text/plain": [
       "                     0            1                2\n",
       "0      ENSG00000243485  MIR1302-2HG  Gene Expression\n",
       "1      ENSG00000237613      FAM138A  Gene Expression\n",
       "2      ENSG00000186092        OR4F5  Gene Expression\n",
       "3      ENSG00000238009   AL627309.1  Gene Expression\n",
       "4      ENSG00000239945   AL627309.3  Gene Expression\n",
       "...                ...          ...              ...\n",
       "33534  ENSG00000275063   AC233755.1  Gene Expression\n",
       "33535  ENSG00000271254   AC240274.1  Gene Expression\n",
       "33536  ENSG00000277475   AC213203.1  Gene Expression\n",
       "33537  ENSG00000268674      FAM231C  Gene Expression\n",
       "33538         SARSCOV2     SARSCOV2  Gene Expression\n",
       "\n",
       "[33539 rows x 3 columns]"
      ]
     },
     "execution_count": 21,
     "metadata": {},
     "output_type": "execute_result"
    }
   ],
   "source": [
    "gene\n",
    "#barcode\n",
    "#adata.T\n",
    "#print(gene)"
   ]
  },
  {
   "cell_type": "code",
   "execution_count": 31,
   "id": "479c1474",
   "metadata": {},
   "outputs": [],
   "source": [
    "if 'run' not in globals():\n",
    "    run = False\n",
    "if not run:\n",
    "    adata = adata.T\n",
    "    gene = np.array(gene[1])\n",
    "    barcode = np.array(barcode[0])\n",
    "    \n",
    "    run = True\n",
    "else:\n",
    "    print(\"已經執行過！\")"
   ]
  },
  {
   "cell_type": "code",
   "execution_count": 30,
   "id": "6c841569",
   "metadata": {},
   "outputs": [],
   "source": [
    "gene"
   ]
  },
  {
   "cell_type": "code",
   "execution_count": 32,
   "id": "c626b9c7",
   "metadata": {},
   "outputs": [],
   "source": [
    "adata.obs_names = barcode\n",
    "adata.var_names = gene"
   ]
  },
  {
   "cell_type": "code",
   "execution_count": 33,
   "id": "416e276e",
   "metadata": {},
   "outputs": [
    {
     "name": "stderr",
     "output_type": "stream",
     "text": [
      "D:\\Python(Anaconda)\\Anaconda python\\lib\\site-packages\\anndata\\_core\\anndata.py:1830: UserWarning: Variable names are not unique. To make them unique, call `.var_names_make_unique`.\n",
      "  utils.warn_names_duplicates(\"var\")\n"
     ]
    },
    {
     "data": {
      "text/plain": [
       "AnnData object with n_obs × n_vars = 4296 × 15661\n",
       "    obs: 'n_genes'\n",
       "    var: 'n_cells'"
      ]
     },
     "execution_count": 33,
     "metadata": {},
     "output_type": "execute_result"
    }
   ],
   "source": [
    "sc.pp.filter_cells(adata, min_genes=200)\n",
    "sc.pp.filter_genes(adata, min_cells=3)\n",
    "adata"
   ]
  },
  {
   "cell_type": "code",
   "execution_count": 36,
   "id": "2f77512f",
   "metadata": {
    "scrolled": false
   },
   "outputs": [
    {
     "data": {
      "text/html": [
       "<div>\n",
       "<style scoped>\n",
       "    .dataframe tbody tr th:only-of-type {\n",
       "        vertical-align: middle;\n",
       "    }\n",
       "\n",
       "    .dataframe tbody tr th {\n",
       "        vertical-align: top;\n",
       "    }\n",
       "\n",
       "    .dataframe thead th {\n",
       "        text-align: right;\n",
       "    }\n",
       "</style>\n",
       "<table border=\"1\" class=\"dataframe\">\n",
       "  <thead>\n",
       "    <tr style=\"text-align: right;\">\n",
       "      <th></th>\n",
       "      <th>n_cells</th>\n",
       "    </tr>\n",
       "  </thead>\n",
       "  <tbody>\n",
       "    <tr>\n",
       "      <th>AL669831.5</th>\n",
       "      <td>73</td>\n",
       "    </tr>\n",
       "    <tr>\n",
       "      <th>LINC00115</th>\n",
       "      <td>67</td>\n",
       "    </tr>\n",
       "    <tr>\n",
       "      <th>FAM41C</th>\n",
       "      <td>18</td>\n",
       "    </tr>\n",
       "    <tr>\n",
       "      <th>NOC2L</th>\n",
       "      <td>364</td>\n",
       "    </tr>\n",
       "    <tr>\n",
       "      <th>KLHL17</th>\n",
       "      <td>16</td>\n",
       "    </tr>\n",
       "    <tr>\n",
       "      <th>...</th>\n",
       "      <td>...</td>\n",
       "    </tr>\n",
       "    <tr>\n",
       "      <th>AL592183.1</th>\n",
       "      <td>10</td>\n",
       "    </tr>\n",
       "    <tr>\n",
       "      <th>AC004556.1</th>\n",
       "      <td>139</td>\n",
       "    </tr>\n",
       "    <tr>\n",
       "      <th>AC233755.2</th>\n",
       "      <td>4</td>\n",
       "    </tr>\n",
       "    <tr>\n",
       "      <th>AC233755.1</th>\n",
       "      <td>11</td>\n",
       "    </tr>\n",
       "    <tr>\n",
       "      <th>AC240274.1</th>\n",
       "      <td>22</td>\n",
       "    </tr>\n",
       "  </tbody>\n",
       "</table>\n",
       "<p>15661 rows × 1 columns</p>\n",
       "</div>"
      ],
      "text/plain": [
       "            n_cells\n",
       "AL669831.5       73\n",
       "LINC00115        67\n",
       "FAM41C           18\n",
       "NOC2L           364\n",
       "KLHL17           16\n",
       "...             ...\n",
       "AL592183.1       10\n",
       "AC004556.1      139\n",
       "AC233755.2        4\n",
       "AC233755.1       11\n",
       "AC240274.1       22\n",
       "\n",
       "[15661 rows x 1 columns]"
      ]
     },
     "execution_count": 36,
     "metadata": {},
     "output_type": "execute_result"
    }
   ],
   "source": [
    "adata.var"
   ]
  },
  {
   "cell_type": "code",
   "execution_count": null,
   "id": "fd531053",
   "metadata": {},
   "outputs": [],
   "source": []
  },
  {
   "cell_type": "code",
   "execution_count": null,
   "id": "18a81716",
   "metadata": {},
   "outputs": [],
   "source": []
  },
  {
   "cell_type": "code",
   "execution_count": null,
   "id": "b49acd00",
   "metadata": {},
   "outputs": [],
   "source": []
  },
  {
   "cell_type": "markdown",
   "id": "878dfd53",
   "metadata": {},
   "source": [
    "# Write h5ad格式"
   ]
  },
  {
   "cell_type": "code",
   "execution_count": 11,
   "id": "404aa3ee",
   "metadata": {},
   "outputs": [],
   "source": [
    "#adata.write('pbmc.h5ad')"
   ]
  },
  {
   "cell_type": "code",
   "execution_count": 13,
   "id": "0807b66c",
   "metadata": {},
   "outputs": [
    {
     "data": {
      "text/plain": [
       "AnnData object with n_obs × n_vars = 4296 × 15661\n",
       "    obs: 'n_genes'\n",
       "    var: 'n_cells'"
      ]
     },
     "execution_count": 13,
     "metadata": {},
     "output_type": "execute_result"
    }
   ],
   "source": [
    "# read h5ad file\n",
    "\n",
    "#test = sc.read_h5ad('pbmc.h5ad')\n",
    "#test"
   ]
  }
 ],
 "metadata": {
  "kernelspec": {
   "display_name": "Python 3 (ipykernel)",
   "language": "python",
   "name": "python3"
  },
  "language_info": {
   "codemirror_mode": {
    "name": "ipython",
    "version": 3
   },
   "file_extension": ".py",
   "mimetype": "text/x-python",
   "name": "python",
   "nbconvert_exporter": "python",
   "pygments_lexer": "ipython3",
   "version": "3.8.2"
  }
 },
 "nbformat": 4,
 "nbformat_minor": 5
}
