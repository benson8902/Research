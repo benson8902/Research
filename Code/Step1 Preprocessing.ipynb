{
 "cells": [
  {
   "cell_type": "code",
   "execution_count": 1,
   "id": "c3df4361",
   "metadata": {},
   "outputs": [],
   "source": [
    "import scanpy as sc\n",
    "import pandas as pd\n",
    "import numpy as np\n",
    "\n",
    "import matplotlib.pyplot as plt"
   ]
  },
  {
   "cell_type": "markdown",
   "id": "7307b4a4",
   "metadata": {},
   "source": [
    "# Data Prepocessing, Normalize, Dimension Reduction"
   ]
  },
  {
   "cell_type": "code",
   "execution_count": null,
   "id": "26f01137",
   "metadata": {},
   "outputs": [],
   "source": [
    "adata = sc.read_mtx(\"SRR13482552/matrix.mtx\")\n",
    "adata = adata.T\n",
    "gene = pd.read_table(\"SRR13482552/features.tsv\", header = None)\n",
    "gene = np.array(gene[1])\n",
    "barcode = pd.read_table(\"SRR13482552/barcodes.tsv\", header = None)\n",
    "barcode = np.array(barcode[0])"
   ]
  },
  {
   "cell_type": "code",
   "execution_count": null,
   "id": "cd5f04e7",
   "metadata": {},
   "outputs": [],
   "source": [
    "adata.obs_names = barcode\n",
    "adata.var_names = gene\n",
    "adata"
   ]
  },
  {
   "cell_type": "code",
   "execution_count": null,
   "id": "d4e0f89f",
   "metadata": {},
   "outputs": [],
   "source": [
    "adata.var_names_make_unique()\n",
    "adata.obs"
   ]
  },
  {
   "cell_type": "markdown",
   "id": "8297d186",
   "metadata": {},
   "source": [
    "# Read h5ad file"
   ]
  },
  {
   "cell_type": "code",
   "execution_count": null,
   "id": "7fca15f2",
   "metadata": {},
   "outputs": [],
   "source": [
    "raw = sc.read_h5ad(\"../../PBMC_Data/merge_done/GSE165080/Raw.h5ad\")"
   ]
  },
  {
   "cell_type": "code",
   "execution_count": null,
   "id": "d343514f",
   "metadata": {},
   "outputs": [],
   "source": [
    "raw.obs"
   ]
  },
  {
   "cell_type": "code",
   "execution_count": null,
   "id": "57216430",
   "metadata": {},
   "outputs": [],
   "source": [
    "raw"
   ]
  },
  {
   "cell_type": "code",
   "execution_count": null,
   "id": "6e0ed3b0",
   "metadata": {},
   "outputs": [],
   "source": [
    "raw.var_names_make_unique()\n",
    "raw.obs_names_make_unique()\n",
    "sc.pp.filter_cells(raw, min_genes=200)\n",
    "sc.pp.filter_genes(raw, min_cells=3)"
   ]
  },
  {
   "cell_type": "code",
   "execution_count": null,
   "id": "d25a5a0d",
   "metadata": {},
   "outputs": [],
   "source": [
    "raw"
   ]
  },
  {
   "cell_type": "code",
   "execution_count": null,
   "id": "318c36fd",
   "metadata": {},
   "outputs": [],
   "source": [
    "raw.var['mt'] = raw.var_names.str.startswith('MT-')\n",
    "sc.pp.calculate_qc_metrics(raw, qc_vars=['mt'], percent_top=None, log1p=False, inplace=True)"
   ]
  },
  {
   "cell_type": "code",
   "execution_count": null,
   "id": "b204d10a",
   "metadata": {},
   "outputs": [],
   "source": [
    "sc.pl.violin(raw, ['n_genes_by_counts', 'total_counts', 'pct_counts_mt'],\n",
    "             jitter=0.4, multi_panel=True)"
   ]
  },
  {
   "cell_type": "code",
   "execution_count": null,
   "id": "9f1b9206",
   "metadata": {},
   "outputs": [],
   "source": [
    "sc.pl.scatter(raw, x='total_counts', y='pct_counts_mt')\n",
    "sc.pl.scatter(raw, x='total_counts', y='n_genes_by_counts')"
   ]
  },
  {
   "cell_type": "code",
   "execution_count": null,
   "id": "c12f41cb",
   "metadata": {},
   "outputs": [],
   "source": [
    "raw = raw[raw.obs.n_genes_by_counts < 6000, :]\n",
    "raw = raw[raw.obs.pct_counts_mt < 25, :]\n",
    "raw"
   ]
  },
  {
   "cell_type": "code",
   "execution_count": null,
   "id": "d71223a5",
   "metadata": {},
   "outputs": [],
   "source": [
    "sc.pl.violin(raw, ['n_genes_by_counts', 'total_counts', 'pct_counts_mt'],\n",
    "             jitter=0.4, multi_panel=True)"
   ]
  },
  {
   "cell_type": "code",
   "execution_count": null,
   "id": "29030b63",
   "metadata": {},
   "outputs": [],
   "source": [
    "sc.pp.normalize_total(raw, target_sum=1e4)"
   ]
  },
  {
   "cell_type": "code",
   "execution_count": null,
   "id": "ad1d0a1d",
   "metadata": {},
   "outputs": [],
   "source": [
    "sc.pp.log1p(raw)\n",
    "raw.raw = raw\n",
    "raw"
   ]
  },
  {
   "cell_type": "code",
   "execution_count": null,
   "id": "ea7048ff",
   "metadata": {},
   "outputs": [],
   "source": [
    "# linear regression out unwanted sources of variation\n",
    "sc.pp.regress_out(raw, ['total_counts', 'pct_counts_mt'])"
   ]
  },
  {
   "cell_type": "code",
   "execution_count": null,
   "id": "a3364d13",
   "metadata": {},
   "outputs": [],
   "source": [
    "sc.pp.scale(raw, max_value=10)\n",
    "sc.tl.pca(raw, svd_solver='arpack')\n",
    "sc.pl.pca_variance_ratio(raw, log=True)"
   ]
  },
  {
   "cell_type": "code",
   "execution_count": null,
   "id": "8a1a315b",
   "metadata": {},
   "outputs": [],
   "source": [
    "sc.pp.neighbors(raw, n_neighbors=10, n_pcs=40)\n",
    "sc.tl.leiden(raw)"
   ]
  },
  {
   "cell_type": "code",
   "execution_count": null,
   "id": "3d6c55d3",
   "metadata": {},
   "outputs": [],
   "source": [
    "# default use leiden透過leiden去計算那個gene expression的部分去挑出最後的權重\n",
    "#再多維的空間做hireachecal(階層的)挑選，clustering會越來越少，直到hirachical跟cluster一樣才會結束\n",
    "\n",
    "sc.tl.paga(raw)\n",
    "sc.pl.paga(raw)"
   ]
  },
  {
   "cell_type": "code",
   "execution_count": null,
   "id": "c3c4d943",
   "metadata": {},
   "outputs": [],
   "source": [
    "sc.tl.umap(raw, init_pos='paga')\n",
    "sc.pl.umap(raw, color = \"leiden\")"
   ]
  },
  {
   "cell_type": "code",
   "execution_count": null,
   "id": "1ac1fcda",
   "metadata": {},
   "outputs": [],
   "source": [
    "raw.write_h5ad(\"Data/GSE165080_healthy.h5ad\")"
   ]
  },
  {
   "cell_type": "markdown",
   "id": "7197d54a",
   "metadata": {},
   "source": [
    "# 讀取已經寫好的檔案"
   ]
  },
  {
   "cell_type": "code",
   "execution_count": 2,
   "id": "4974d732",
   "metadata": {},
   "outputs": [],
   "source": [
    "raw = sc.read_h5ad(\"Data/GSE165080_healthy.h5ad\")"
   ]
  },
  {
   "cell_type": "code",
   "execution_count": 3,
   "id": "14189a11",
   "metadata": {},
   "outputs": [
    {
     "data": {
      "text/plain": [
       "AnnData object with n_obs × n_vars = 46160 × 27426\n",
       "    obs: 'Age', 'Gender', 'BioSample', 'n_genes', 'n_genes_by_counts', 'total_counts', 'total_counts_mt', 'pct_counts_mt', 'leiden'\n",
       "    var: 'n_cells', 'mt', 'n_cells_by_counts', 'mean_counts', 'pct_dropout_by_counts', 'total_counts', 'mean', 'std'\n",
       "    uns: 'leiden', 'leiden_colors', 'leiden_sizes', 'log1p', 'neighbors', 'paga', 'pca', 'umap'\n",
       "    obsm: 'X_pca', 'X_umap'\n",
       "    varm: 'PCs'\n",
       "    obsp: 'connectivities', 'distances'"
      ]
     },
     "execution_count": 3,
     "metadata": {},
     "output_type": "execute_result"
    }
   ],
   "source": [
    "raw"
   ]
  },
  {
   "cell_type": "markdown",
   "id": "b85b66ec",
   "metadata": {},
   "source": [
    "# 統整cells and genes的數量"
   ]
  },
  {
   "cell_type": "code",
   "execution_count": null,
   "id": "c467b24c",
   "metadata": {},
   "outputs": [],
   "source": [
    "cells_and_genes = {}\n",
    "\n",
    "for i in range(0, Raw.n_obs):\n",
    "    cells_and_genes[Raw.obs.BioSample[i]] = []\n",
    "for i in cells_and_genes:\n",
    "    healthy = Raw[Raw.obs[\"BioSample\"] == i, :]\n",
    "    cells_and_genes[i] = [f\"{healthy.n_obs}*{healthy.n_vars}\"]\n",
    "    print(i)"
   ]
  },
  {
   "cell_type": "code",
   "execution_count": null,
   "id": "e9b840b5",
   "metadata": {},
   "outputs": [],
   "source": [
    "cells_and_genes"
   ]
  },
  {
   "cell_type": "code",
   "execution_count": null,
   "id": "1f6d68ab",
   "metadata": {},
   "outputs": [],
   "source": []
  },
  {
   "cell_type": "code",
   "execution_count": null,
   "id": "22f4e63c",
   "metadata": {},
   "outputs": [],
   "source": []
  },
  {
   "cell_type": "code",
   "execution_count": null,
   "id": "e42cf815",
   "metadata": {},
   "outputs": [],
   "source": []
  },
  {
   "cell_type": "markdown",
   "id": "58622da2",
   "metadata": {},
   "source": [
    "# 紀錄檔案的性別、年齡、資料集"
   ]
  },
  {
   "cell_type": "code",
   "execution_count": null,
   "id": "c10df39e",
   "metadata": {},
   "outputs": [],
   "source": [
    "adata.obs[\"Age\"] = [44]*adata.n_obs\n",
    "adata.obs[\"Gender\"] = [\"female\"]*adata.n_obs\n",
    "adata.obs[\"Dataset\"] = [\"SRR13482552\"]*adata.n_obs\n",
    "adata.obs"
   ]
  },
  {
   "cell_type": "code",
   "execution_count": null,
   "id": "002dee64",
   "metadata": {},
   "outputs": [],
   "source": [
    "adata.write_h5ad(\"Healthy.h5ad\")"
   ]
  },
  {
   "cell_type": "code",
   "execution_count": null,
   "id": "a6f8df4f",
   "metadata": {},
   "outputs": [],
   "source": []
  },
  {
   "cell_type": "code",
   "execution_count": null,
   "id": "dbe889e2",
   "metadata": {},
   "outputs": [],
   "source": []
  },
  {
   "cell_type": "code",
   "execution_count": null,
   "id": "663b1f7d",
   "metadata": {},
   "outputs": [],
   "source": []
  },
  {
   "cell_type": "code",
   "execution_count": null,
   "id": "9ad65442",
   "metadata": {},
   "outputs": [],
   "source": []
  },
  {
   "cell_type": "markdown",
   "id": "0186fe0e",
   "metadata": {},
   "source": [
    "# 以下是GSE149689所需的code"
   ]
  },
  {
   "cell_type": "code",
   "execution_count": null,
   "id": "2b811af5",
   "metadata": {},
   "outputs": [],
   "source": [
    "# barcode\n",
    "# unfilter data\n",
    "pre = adata.obs_names\n",
    "\n",
    "# extract Healthy Donor from barcode\n",
    "# 這些5 13 14 19是GSE149689中表示healthy donor\n",
    "# $是結尾\n",
    "pattern = r\"-(5|13|14|19)$\"\n",
    "pre_healthy = pre[pre.str.contains(pattern)]\n",
    "\n",
    "\n",
    "pre_healthy"
   ]
  },
  {
   "cell_type": "code",
   "execution_count": null,
   "id": "b73485cd",
   "metadata": {},
   "outputs": [],
   "source": [
    "healthy = adata[adata.obs.index.isin(pre_healthy)]\n",
    "healthy.X"
   ]
  },
  {
   "cell_type": "code",
   "execution_count": null,
   "id": "527abbd0",
   "metadata": {},
   "outputs": [],
   "source": [
    "sc.pp.normalize_total(healthy, target_sum=1e4)"
   ]
  },
  {
   "cell_type": "code",
   "execution_count": null,
   "id": "de56d0f7",
   "metadata": {},
   "outputs": [],
   "source": [
    "sc.pp.log1p(healthy)\n",
    "healthy.raw = healthy\n",
    "healthy"
   ]
  },
  {
   "cell_type": "code",
   "execution_count": null,
   "id": "b619b09c",
   "metadata": {},
   "outputs": [],
   "source": [
    "# linear regression out unwanted sources of variation\n",
    "sc.pp.regress_out(healthy, ['total_counts', 'pct_counts_mt'])"
   ]
  },
  {
   "cell_type": "code",
   "execution_count": null,
   "id": "12260c57",
   "metadata": {},
   "outputs": [],
   "source": [
    "sc.pp.scale(healthy, max_value=10)\n",
    "sc.tl.pca(healthy, svd_solver='arpack')\n",
    "sc.pl.pca_variance_ratio(healthy, log=True)"
   ]
  },
  {
   "cell_type": "code",
   "execution_count": null,
   "id": "20476f10",
   "metadata": {},
   "outputs": [],
   "source": [
    "sc.pp.neighbors(healthy, n_neighbors=10, n_pcs=40)\n",
    "sc.tl.leiden(healthy)"
   ]
  },
  {
   "cell_type": "code",
   "execution_count": null,
   "id": "2ccf2e3c",
   "metadata": {},
   "outputs": [],
   "source": [
    "# default use leiden透過leiden去計算那個gene expression的部分去挑出最後的權重\n",
    "#再多維的空間做hireachecal(階層的)挑選，clustering會越來越少，直到hirachical跟cluster一樣才會結束\n",
    "\n",
    "sc.tl.paga(healthy)\n",
    "sc.pl.paga(healthy)"
   ]
  },
  {
   "cell_type": "code",
   "execution_count": null,
   "id": "e6c37805",
   "metadata": {},
   "outputs": [],
   "source": [
    "sc.tl.umap(healthy, init_pos='paga')\n",
    "sc.pl.umap(healthy, color = \"leiden\")"
   ]
  },
  {
   "cell_type": "code",
   "execution_count": null,
   "id": "1092bbc4",
   "metadata": {},
   "outputs": [],
   "source": [
    "healthy.write_h5ad(\"benson_pbmc_healthy_donor.h5ad\")"
   ]
  },
  {
   "cell_type": "code",
   "execution_count": null,
   "id": "b482b24a",
   "metadata": {},
   "outputs": [],
   "source": [
    "sc.pl.umap(healthy, color = \"leiden\")"
   ]
  },
  {
   "cell_type": "code",
   "execution_count": null,
   "id": "1c0cf5b0",
   "metadata": {},
   "outputs": [],
   "source": [
    "healthy"
   ]
  }
 ],
 "metadata": {
  "kernelspec": {
   "display_name": "Python 3 (ipykernel)",
   "language": "python",
   "name": "python3"
  },
  "language_info": {
   "codemirror_mode": {
    "name": "ipython",
    "version": 3
   },
   "file_extension": ".py",
   "mimetype": "text/x-python",
   "name": "python",
   "nbconvert_exporter": "python",
   "pygments_lexer": "ipython3",
   "version": "3.8.2"
  }
 },
 "nbformat": 4,
 "nbformat_minor": 5
}
