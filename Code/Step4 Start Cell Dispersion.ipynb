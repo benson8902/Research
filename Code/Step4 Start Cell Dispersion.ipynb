{
 "cells": [
  {
   "cell_type": "code",
   "execution_count": 5,
   "id": "cef01d1f",
   "metadata": {},
   "outputs": [],
   "source": [
    "import scanpy as sc\n",
    "import pandas as pd\n",
    "import numpy as np\n",
    "\n",
    "import math #計算combinations\n",
    "import random #做隨機抽樣分布"
   ]
  },
  {
   "cell_type": "code",
   "execution_count": 6,
   "id": "4ddd94b7",
   "metadata": {},
   "outputs": [],
   "source": [
    "healthy = sc.read_h5ad(\"../Code/Data/Test/GSE165080_healthy.h5ad\")"
   ]
  },
  {
   "cell_type": "markdown",
   "id": "a973234a",
   "metadata": {},
   "source": [
    "# 開始處理cell dispersion"
   ]
  },
  {
   "cell_type": "markdown",
   "id": "14a61977",
   "metadata": {},
   "source": [
    "我需要先把每個人的部分個別提取出來，最後再將每個人的NK提取出來做cell dispersion"
   ]
  },
  {
   "cell_type": "code",
   "execution_count": 7,
   "id": "b0179b52",
   "metadata": {},
   "outputs": [
    {
     "data": {
      "text/plain": [
       "AnnData object with n_obs × n_vars = 46160 × 27426\n",
       "    obs: 'Age', 'Gender', 'BioSample', 'n_genes', 'n_genes_by_counts', 'total_counts', 'total_counts_mt', 'pct_counts_mt', 'leiden', 'cell_type_l1', 'cell_type_l2', 'cell_type_l3'\n",
       "    var: 'n_cells', 'mt', 'n_cells_by_counts', 'mean_counts', 'pct_dropout_by_counts', 'total_counts', 'mean', 'std'\n",
       "    uns: 'BioSample_colors', 'cell_type_l1_colors', 'leiden', 'leiden_colors', 'leiden_sizes', 'log1p', 'neighbors', 'paga', 'pca', 'umap'\n",
       "    obsm: 'X_pca', 'X_umap'\n",
       "    varm: 'PCs'\n",
       "    obsp: 'connectivities', 'distances'"
      ]
     },
     "execution_count": 7,
     "metadata": {},
     "output_type": "execute_result"
    }
   ],
   "source": [
    "healthy"
   ]
  },
  {
   "cell_type": "code",
   "execution_count": 8,
   "id": "401c7592",
   "metadata": {},
   "outputs": [
    {
     "data": {
      "text/plain": [
       "11"
      ]
     },
     "execution_count": 8,
     "metadata": {},
     "output_type": "execute_result"
    }
   ],
   "source": [
    "BioSample = healthy.obs.BioSample\n",
    "\n",
    "personal = {}\n",
    "personal_df = {}\n",
    "for i in BioSample:\n",
    "    if i not in personal:\n",
    "        personal[i] = healthy[healthy.obs[\"BioSample\"] == i, :]\n",
    "        personal_df[i] = healthy[healthy.obs[\"BioSample\"] == i, :]\n",
    "len(personal)"
   ]
  },
  {
   "cell_type": "code",
   "execution_count": 9,
   "id": "c2a14d12",
   "metadata": {},
   "outputs": [
    {
     "name": "stdout",
     "output_type": "stream",
     "text": [
      "SAMN17379694\n",
      "SAMN17379721\n",
      "SAMN17379592\n",
      "SAMN17379590\n",
      "SAMN17379695\n",
      "SAMN17379693\n",
      "SAMN17379698\n",
      "SAMN17379697\n",
      "SAMN17379696\n",
      "SAMN17379671\n",
      "SAMN17379591\n"
     ]
    }
   ],
   "source": [
    "for i in personal:\n",
    "    print(i)"
   ]
  },
  {
   "cell_type": "code",
   "execution_count": 10,
   "id": "a8c018a7",
   "metadata": {},
   "outputs": [
    {
     "data": {
      "text/plain": [
       "ArrayView([[-0.04113887, -0.02130056, -0.08352882, ..., -0.02508638,\n",
       "            -0.02123656, -0.00597406],\n",
       "           [-0.04731227, -0.00735563, -0.04381714, ...,  0.00101563,\n",
       "            -0.01133961, -0.01024567],\n",
       "           [-0.05402926, -0.00711253, -0.07180765, ..., -0.01154446,\n",
       "            -0.01523731, -0.01000294],\n",
       "           ...,\n",
       "           [-0.04257759, -0.00480372, -0.01110002, ...,  0.01734045,\n",
       "            -0.00591701, -0.01130882],\n",
       "           [-0.04313654, -0.01091146, -0.04265317, ..., -0.00051715,\n",
       "            -0.01226112, -0.0092813 ],\n",
       "           [-0.03972478, -0.02541457, -0.09701156, ..., -0.03358878,\n",
       "            -0.0244071 , -0.00469432]], dtype=float32)"
      ]
     },
     "execution_count": 10,
     "metadata": {},
     "output_type": "execute_result"
    }
   ],
   "source": [
    "personal[\"SAMN17379721\"].X"
   ]
  },
  {
   "cell_type": "code",
   "execution_count": 17,
   "id": "f96b0311",
   "metadata": {},
   "outputs": [
    {
     "data": {
      "text/plain": [
       "View of AnnData object with n_obs × n_vars = 267 × 27426\n",
       "    obs: 'Age', 'Gender', 'BioSample', 'n_genes', 'n_genes_by_counts', 'total_counts', 'total_counts_mt', 'pct_counts_mt', 'leiden', 'cell_type_l1', 'cell_type_l2', 'cell_type_l3'\n",
       "    var: 'n_cells', 'mt', 'n_cells_by_counts', 'mean_counts', 'pct_dropout_by_counts', 'total_counts', 'mean', 'std'\n",
       "    uns: 'BioSample_colors', 'cell_type_l1_colors', 'leiden', 'leiden_colors', 'leiden_sizes', 'log1p', 'neighbors', 'paga', 'pca', 'umap'\n",
       "    obsm: 'X_pca', 'X_umap'\n",
       "    varm: 'PCs'\n",
       "    obsp: 'connectivities', 'distances'"
      ]
     },
     "execution_count": 17,
     "metadata": {},
     "output_type": "execute_result"
    }
   ],
   "source": [
    "personal[\"SAMN17379721\"].obs.cell_type_l1\n",
    "\n",
    "NK_1 = personal[\"SAMN17379721\"][personal[\"SAMN17379721\"].obs[\"cell_type_l1\"] == \"NK\", :]\n",
    "NK_2 = personal[\"SAMN17379694\"][personal[\"SAMN17379694\"].obs[\"cell_type_l1\"] == \"NK\", :]\n",
    "NK_1"
   ]
  },
  {
   "cell_type": "code",
   "execution_count": 21,
   "id": "0f19232a",
   "metadata": {},
   "outputs": [
    {
     "data": {
      "text/html": [
       "<div>\n",
       "<style scoped>\n",
       "    .dataframe tbody tr th:only-of-type {\n",
       "        vertical-align: middle;\n",
       "    }\n",
       "\n",
       "    .dataframe tbody tr th {\n",
       "        vertical-align: top;\n",
       "    }\n",
       "\n",
       "    .dataframe thead th {\n",
       "        text-align: right;\n",
       "    }\n",
       "</style>\n",
       "<table border=\"1\" class=\"dataframe\">\n",
       "  <thead>\n",
       "    <tr style=\"text-align: right;\">\n",
       "      <th></th>\n",
       "      <th>Age</th>\n",
       "      <th>Gender</th>\n",
       "      <th>BioSample</th>\n",
       "      <th>n_genes</th>\n",
       "      <th>n_genes_by_counts</th>\n",
       "      <th>total_counts</th>\n",
       "      <th>total_counts_mt</th>\n",
       "      <th>pct_counts_mt</th>\n",
       "      <th>leiden</th>\n",
       "      <th>cell_type_l1</th>\n",
       "      <th>cell_type_l2</th>\n",
       "      <th>cell_type_l3</th>\n",
       "    </tr>\n",
       "  </thead>\n",
       "  <tbody>\n",
       "    <tr>\n",
       "      <th>AACACGTGTGACGGTA-1</th>\n",
       "      <td>51</td>\n",
       "      <td>male</td>\n",
       "      <td>SAMN17379721</td>\n",
       "      <td>872</td>\n",
       "      <td>872</td>\n",
       "      <td>1459.0</td>\n",
       "      <td>211.0</td>\n",
       "      <td>14.461960</td>\n",
       "      <td>17</td>\n",
       "      <td>NK</td>\n",
       "      <td>NK</td>\n",
       "      <td>NK_2</td>\n",
       "    </tr>\n",
       "    <tr>\n",
       "      <th>AACCATGAGGAATGGA-1</th>\n",
       "      <td>51</td>\n",
       "      <td>male</td>\n",
       "      <td>SAMN17379721</td>\n",
       "      <td>1733</td>\n",
       "      <td>1733</td>\n",
       "      <td>3579.0</td>\n",
       "      <td>137.0</td>\n",
       "      <td>3.827885</td>\n",
       "      <td>4</td>\n",
       "      <td>NK</td>\n",
       "      <td>NK</td>\n",
       "      <td>NK_2</td>\n",
       "    </tr>\n",
       "    <tr>\n",
       "      <th>AACTCCCAGCTCAACT-1</th>\n",
       "      <td>51</td>\n",
       "      <td>male</td>\n",
       "      <td>SAMN17379721</td>\n",
       "      <td>1652</td>\n",
       "      <td>1652</td>\n",
       "      <td>3342.0</td>\n",
       "      <td>145.0</td>\n",
       "      <td>4.338719</td>\n",
       "      <td>4</td>\n",
       "      <td>NK</td>\n",
       "      <td>NK</td>\n",
       "      <td>NK_2</td>\n",
       "    </tr>\n",
       "    <tr>\n",
       "      <th>AAGCCGCCACCCAGTG-1</th>\n",
       "      <td>51</td>\n",
       "      <td>male</td>\n",
       "      <td>SAMN17379721</td>\n",
       "      <td>999</td>\n",
       "      <td>999</td>\n",
       "      <td>1650.0</td>\n",
       "      <td>166.0</td>\n",
       "      <td>10.060606</td>\n",
       "      <td>17</td>\n",
       "      <td>NK</td>\n",
       "      <td>NK</td>\n",
       "      <td>NK_2</td>\n",
       "    </tr>\n",
       "    <tr>\n",
       "      <th>AAGGCAGTCTCCAGGG-1</th>\n",
       "      <td>51</td>\n",
       "      <td>male</td>\n",
       "      <td>SAMN17379721</td>\n",
       "      <td>1513</td>\n",
       "      <td>1513</td>\n",
       "      <td>3504.0</td>\n",
       "      <td>76.0</td>\n",
       "      <td>2.168950</td>\n",
       "      <td>4</td>\n",
       "      <td>NK</td>\n",
       "      <td>NK</td>\n",
       "      <td>NK_2</td>\n",
       "    </tr>\n",
       "    <tr>\n",
       "      <th>...</th>\n",
       "      <td>...</td>\n",
       "      <td>...</td>\n",
       "      <td>...</td>\n",
       "      <td>...</td>\n",
       "      <td>...</td>\n",
       "      <td>...</td>\n",
       "      <td>...</td>\n",
       "      <td>...</td>\n",
       "      <td>...</td>\n",
       "      <td>...</td>\n",
       "      <td>...</td>\n",
       "      <td>...</td>\n",
       "    </tr>\n",
       "    <tr>\n",
       "      <th>TTTATGCCATGTAAGA-1</th>\n",
       "      <td>51</td>\n",
       "      <td>male</td>\n",
       "      <td>SAMN17379721</td>\n",
       "      <td>1514</td>\n",
       "      <td>1514</td>\n",
       "      <td>3438.0</td>\n",
       "      <td>131.0</td>\n",
       "      <td>3.810355</td>\n",
       "      <td>4</td>\n",
       "      <td>NK</td>\n",
       "      <td>NK</td>\n",
       "      <td>NK_2</td>\n",
       "    </tr>\n",
       "    <tr>\n",
       "      <th>TTTATGCGTTGTCGCG-1</th>\n",
       "      <td>51</td>\n",
       "      <td>male</td>\n",
       "      <td>SAMN17379721</td>\n",
       "      <td>666</td>\n",
       "      <td>666</td>\n",
       "      <td>984.0</td>\n",
       "      <td>109.0</td>\n",
       "      <td>11.077235</td>\n",
       "      <td>17</td>\n",
       "      <td>NK</td>\n",
       "      <td>NK</td>\n",
       "      <td>NK_2</td>\n",
       "    </tr>\n",
       "    <tr>\n",
       "      <th>TTTCCTCTCACAGGCC-1</th>\n",
       "      <td>51</td>\n",
       "      <td>male</td>\n",
       "      <td>SAMN17379721</td>\n",
       "      <td>1151</td>\n",
       "      <td>1151</td>\n",
       "      <td>1891.0</td>\n",
       "      <td>233.0</td>\n",
       "      <td>12.321523</td>\n",
       "      <td>17</td>\n",
       "      <td>NK</td>\n",
       "      <td>NK</td>\n",
       "      <td>NK_2</td>\n",
       "    </tr>\n",
       "    <tr>\n",
       "      <th>TTTGCGCGTAAAGTCA-1</th>\n",
       "      <td>51</td>\n",
       "      <td>male</td>\n",
       "      <td>SAMN17379721</td>\n",
       "      <td>2142</td>\n",
       "      <td>2142</td>\n",
       "      <td>5499.0</td>\n",
       "      <td>179.0</td>\n",
       "      <td>3.255137</td>\n",
       "      <td>4</td>\n",
       "      <td>NK</td>\n",
       "      <td>NK</td>\n",
       "      <td>NK_2</td>\n",
       "    </tr>\n",
       "    <tr>\n",
       "      <th>TTTGTCAGTGAGCGAT-1</th>\n",
       "      <td>51</td>\n",
       "      <td>male</td>\n",
       "      <td>SAMN17379721</td>\n",
       "      <td>1077</td>\n",
       "      <td>1077</td>\n",
       "      <td>1712.0</td>\n",
       "      <td>107.0</td>\n",
       "      <td>6.250000</td>\n",
       "      <td>17</td>\n",
       "      <td>NK</td>\n",
       "      <td>NK</td>\n",
       "      <td>NK_2</td>\n",
       "    </tr>\n",
       "  </tbody>\n",
       "</table>\n",
       "<p>267 rows × 12 columns</p>\n",
       "</div>"
      ],
      "text/plain": [
       "                    Age Gender     BioSample  n_genes  n_genes_by_counts  \\\n",
       "AACACGTGTGACGGTA-1   51   male  SAMN17379721      872                872   \n",
       "AACCATGAGGAATGGA-1   51   male  SAMN17379721     1733               1733   \n",
       "AACTCCCAGCTCAACT-1   51   male  SAMN17379721     1652               1652   \n",
       "AAGCCGCCACCCAGTG-1   51   male  SAMN17379721      999                999   \n",
       "AAGGCAGTCTCCAGGG-1   51   male  SAMN17379721     1513               1513   \n",
       "...                 ...    ...           ...      ...                ...   \n",
       "TTTATGCCATGTAAGA-1   51   male  SAMN17379721     1514               1514   \n",
       "TTTATGCGTTGTCGCG-1   51   male  SAMN17379721      666                666   \n",
       "TTTCCTCTCACAGGCC-1   51   male  SAMN17379721     1151               1151   \n",
       "TTTGCGCGTAAAGTCA-1   51   male  SAMN17379721     2142               2142   \n",
       "TTTGTCAGTGAGCGAT-1   51   male  SAMN17379721     1077               1077   \n",
       "\n",
       "                    total_counts  total_counts_mt  pct_counts_mt leiden  \\\n",
       "AACACGTGTGACGGTA-1        1459.0            211.0      14.461960     17   \n",
       "AACCATGAGGAATGGA-1        3579.0            137.0       3.827885      4   \n",
       "AACTCCCAGCTCAACT-1        3342.0            145.0       4.338719      4   \n",
       "AAGCCGCCACCCAGTG-1        1650.0            166.0      10.060606     17   \n",
       "AAGGCAGTCTCCAGGG-1        3504.0             76.0       2.168950      4   \n",
       "...                          ...              ...            ...    ...   \n",
       "TTTATGCCATGTAAGA-1        3438.0            131.0       3.810355      4   \n",
       "TTTATGCGTTGTCGCG-1         984.0            109.0      11.077235     17   \n",
       "TTTCCTCTCACAGGCC-1        1891.0            233.0      12.321523     17   \n",
       "TTTGCGCGTAAAGTCA-1        5499.0            179.0       3.255137      4   \n",
       "TTTGTCAGTGAGCGAT-1        1712.0            107.0       6.250000     17   \n",
       "\n",
       "                   cell_type_l1 cell_type_l2 cell_type_l3  \n",
       "AACACGTGTGACGGTA-1           NK           NK         NK_2  \n",
       "AACCATGAGGAATGGA-1           NK           NK         NK_2  \n",
       "AACTCCCAGCTCAACT-1           NK           NK         NK_2  \n",
       "AAGCCGCCACCCAGTG-1           NK           NK         NK_2  \n",
       "AAGGCAGTCTCCAGGG-1           NK           NK         NK_2  \n",
       "...                         ...          ...          ...  \n",
       "TTTATGCCATGTAAGA-1           NK           NK         NK_2  \n",
       "TTTATGCGTTGTCGCG-1           NK           NK         NK_2  \n",
       "TTTCCTCTCACAGGCC-1           NK           NK         NK_2  \n",
       "TTTGCGCGTAAAGTCA-1           NK           NK         NK_2  \n",
       "TTTGTCAGTGAGCGAT-1           NK           NK         NK_2  \n",
       "\n",
       "[267 rows x 12 columns]"
      ]
     },
     "execution_count": 21,
     "metadata": {},
     "output_type": "execute_result"
    }
   ],
   "source": [
    "NK_1.obs"
   ]
  },
  {
   "cell_type": "code",
   "execution_count": 20,
   "id": "12666751",
   "metadata": {},
   "outputs": [
    {
     "data": {
      "text/html": [
       "<div>\n",
       "<style scoped>\n",
       "    .dataframe tbody tr th:only-of-type {\n",
       "        vertical-align: middle;\n",
       "    }\n",
       "\n",
       "    .dataframe tbody tr th {\n",
       "        vertical-align: top;\n",
       "    }\n",
       "\n",
       "    .dataframe thead th {\n",
       "        text-align: right;\n",
       "    }\n",
       "</style>\n",
       "<table border=\"1\" class=\"dataframe\">\n",
       "  <thead>\n",
       "    <tr style=\"text-align: right;\">\n",
       "      <th></th>\n",
       "      <th>Age</th>\n",
       "      <th>Gender</th>\n",
       "      <th>BioSample</th>\n",
       "      <th>n_genes</th>\n",
       "      <th>n_genes_by_counts</th>\n",
       "      <th>total_counts</th>\n",
       "      <th>total_counts_mt</th>\n",
       "      <th>pct_counts_mt</th>\n",
       "      <th>leiden</th>\n",
       "      <th>cell_type_l1</th>\n",
       "      <th>cell_type_l2</th>\n",
       "      <th>cell_type_l3</th>\n",
       "    </tr>\n",
       "  </thead>\n",
       "  <tbody>\n",
       "    <tr>\n",
       "      <th>AAACCTGCAATAAGCA-1</th>\n",
       "      <td>34</td>\n",
       "      <td>female</td>\n",
       "      <td>SAMN17379694</td>\n",
       "      <td>1487</td>\n",
       "      <td>1487</td>\n",
       "      <td>2865.0</td>\n",
       "      <td>371.0</td>\n",
       "      <td>12.949389</td>\n",
       "      <td>16</td>\n",
       "      <td>NK</td>\n",
       "      <td>NK</td>\n",
       "      <td>NK_2</td>\n",
       "    </tr>\n",
       "    <tr>\n",
       "      <th>AAACCTGCAGCCTTTC-1</th>\n",
       "      <td>34</td>\n",
       "      <td>female</td>\n",
       "      <td>SAMN17379694</td>\n",
       "      <td>1780</td>\n",
       "      <td>1780</td>\n",
       "      <td>3634.0</td>\n",
       "      <td>247.0</td>\n",
       "      <td>6.796918</td>\n",
       "      <td>16</td>\n",
       "      <td>NK</td>\n",
       "      <td>NK</td>\n",
       "      <td>NK_2</td>\n",
       "    </tr>\n",
       "    <tr>\n",
       "      <th>AAACCTGCAGTCAGAG-1</th>\n",
       "      <td>34</td>\n",
       "      <td>female</td>\n",
       "      <td>SAMN17379694</td>\n",
       "      <td>2364</td>\n",
       "      <td>2364</td>\n",
       "      <td>5104.0</td>\n",
       "      <td>223.0</td>\n",
       "      <td>4.369122</td>\n",
       "      <td>16</td>\n",
       "      <td>NK</td>\n",
       "      <td>NK</td>\n",
       "      <td>NK_2</td>\n",
       "    </tr>\n",
       "    <tr>\n",
       "      <th>AAACCTGGTGATGCCC-1</th>\n",
       "      <td>34</td>\n",
       "      <td>female</td>\n",
       "      <td>SAMN17379694</td>\n",
       "      <td>1619</td>\n",
       "      <td>1619</td>\n",
       "      <td>3220.0</td>\n",
       "      <td>262.0</td>\n",
       "      <td>8.136645</td>\n",
       "      <td>16</td>\n",
       "      <td>NK</td>\n",
       "      <td>NK</td>\n",
       "      <td>NK_2</td>\n",
       "    </tr>\n",
       "    <tr>\n",
       "      <th>AAACGGGGTCATGCCG-1</th>\n",
       "      <td>34</td>\n",
       "      <td>female</td>\n",
       "      <td>SAMN17379694</td>\n",
       "      <td>1984</td>\n",
       "      <td>1984</td>\n",
       "      <td>4308.0</td>\n",
       "      <td>159.0</td>\n",
       "      <td>3.690808</td>\n",
       "      <td>16</td>\n",
       "      <td>NK</td>\n",
       "      <td>NK</td>\n",
       "      <td>NK_2</td>\n",
       "    </tr>\n",
       "    <tr>\n",
       "      <th>...</th>\n",
       "      <td>...</td>\n",
       "      <td>...</td>\n",
       "      <td>...</td>\n",
       "      <td>...</td>\n",
       "      <td>...</td>\n",
       "      <td>...</td>\n",
       "      <td>...</td>\n",
       "      <td>...</td>\n",
       "      <td>...</td>\n",
       "      <td>...</td>\n",
       "      <td>...</td>\n",
       "      <td>...</td>\n",
       "    </tr>\n",
       "    <tr>\n",
       "      <th>TTTGCGCCAGCGTTCG-1</th>\n",
       "      <td>34</td>\n",
       "      <td>female</td>\n",
       "      <td>SAMN17379694</td>\n",
       "      <td>4010</td>\n",
       "      <td>4008</td>\n",
       "      <td>11106.0</td>\n",
       "      <td>257.0</td>\n",
       "      <td>2.314065</td>\n",
       "      <td>31</td>\n",
       "      <td>NK</td>\n",
       "      <td>NK Proliferating</td>\n",
       "      <td>NK Proliferating</td>\n",
       "    </tr>\n",
       "    <tr>\n",
       "      <th>TTTGGTTCATGCCTTC-1</th>\n",
       "      <td>34</td>\n",
       "      <td>female</td>\n",
       "      <td>SAMN17379694</td>\n",
       "      <td>2005</td>\n",
       "      <td>2005</td>\n",
       "      <td>4192.0</td>\n",
       "      <td>228.0</td>\n",
       "      <td>5.438931</td>\n",
       "      <td>16</td>\n",
       "      <td>NK</td>\n",
       "      <td>NK</td>\n",
       "      <td>NK_2</td>\n",
       "    </tr>\n",
       "    <tr>\n",
       "      <th>TTTGTCAAGGACTGGT-1</th>\n",
       "      <td>34</td>\n",
       "      <td>female</td>\n",
       "      <td>SAMN17379694</td>\n",
       "      <td>2227</td>\n",
       "      <td>2227</td>\n",
       "      <td>4805.0</td>\n",
       "      <td>238.0</td>\n",
       "      <td>4.953174</td>\n",
       "      <td>16</td>\n",
       "      <td>NK</td>\n",
       "      <td>NK</td>\n",
       "      <td>NK_1</td>\n",
       "    </tr>\n",
       "    <tr>\n",
       "      <th>TTTGTCAAGTAGGCCA-1</th>\n",
       "      <td>34</td>\n",
       "      <td>female</td>\n",
       "      <td>SAMN17379694</td>\n",
       "      <td>2273</td>\n",
       "      <td>2272</td>\n",
       "      <td>5118.0</td>\n",
       "      <td>234.0</td>\n",
       "      <td>4.572098</td>\n",
       "      <td>16</td>\n",
       "      <td>NK</td>\n",
       "      <td>NK</td>\n",
       "      <td>NK_2</td>\n",
       "    </tr>\n",
       "    <tr>\n",
       "      <th>TTTGTCATCTGTCTCG-1</th>\n",
       "      <td>34</td>\n",
       "      <td>female</td>\n",
       "      <td>SAMN17379694</td>\n",
       "      <td>1698</td>\n",
       "      <td>1698</td>\n",
       "      <td>3107.0</td>\n",
       "      <td>284.0</td>\n",
       "      <td>9.140650</td>\n",
       "      <td>16</td>\n",
       "      <td>NK</td>\n",
       "      <td>NK</td>\n",
       "      <td>NK_2</td>\n",
       "    </tr>\n",
       "  </tbody>\n",
       "</table>\n",
       "<p>936 rows × 12 columns</p>\n",
       "</div>"
      ],
      "text/plain": [
       "                    Age  Gender     BioSample  n_genes  n_genes_by_counts  \\\n",
       "AAACCTGCAATAAGCA-1   34  female  SAMN17379694     1487               1487   \n",
       "AAACCTGCAGCCTTTC-1   34  female  SAMN17379694     1780               1780   \n",
       "AAACCTGCAGTCAGAG-1   34  female  SAMN17379694     2364               2364   \n",
       "AAACCTGGTGATGCCC-1   34  female  SAMN17379694     1619               1619   \n",
       "AAACGGGGTCATGCCG-1   34  female  SAMN17379694     1984               1984   \n",
       "...                 ...     ...           ...      ...                ...   \n",
       "TTTGCGCCAGCGTTCG-1   34  female  SAMN17379694     4010               4008   \n",
       "TTTGGTTCATGCCTTC-1   34  female  SAMN17379694     2005               2005   \n",
       "TTTGTCAAGGACTGGT-1   34  female  SAMN17379694     2227               2227   \n",
       "TTTGTCAAGTAGGCCA-1   34  female  SAMN17379694     2273               2272   \n",
       "TTTGTCATCTGTCTCG-1   34  female  SAMN17379694     1698               1698   \n",
       "\n",
       "                    total_counts  total_counts_mt  pct_counts_mt leiden  \\\n",
       "AAACCTGCAATAAGCA-1        2865.0            371.0      12.949389     16   \n",
       "AAACCTGCAGCCTTTC-1        3634.0            247.0       6.796918     16   \n",
       "AAACCTGCAGTCAGAG-1        5104.0            223.0       4.369122     16   \n",
       "AAACCTGGTGATGCCC-1        3220.0            262.0       8.136645     16   \n",
       "AAACGGGGTCATGCCG-1        4308.0            159.0       3.690808     16   \n",
       "...                          ...              ...            ...    ...   \n",
       "TTTGCGCCAGCGTTCG-1       11106.0            257.0       2.314065     31   \n",
       "TTTGGTTCATGCCTTC-1        4192.0            228.0       5.438931     16   \n",
       "TTTGTCAAGGACTGGT-1        4805.0            238.0       4.953174     16   \n",
       "TTTGTCAAGTAGGCCA-1        5118.0            234.0       4.572098     16   \n",
       "TTTGTCATCTGTCTCG-1        3107.0            284.0       9.140650     16   \n",
       "\n",
       "                   cell_type_l1      cell_type_l2      cell_type_l3  \n",
       "AAACCTGCAATAAGCA-1           NK                NK              NK_2  \n",
       "AAACCTGCAGCCTTTC-1           NK                NK              NK_2  \n",
       "AAACCTGCAGTCAGAG-1           NK                NK              NK_2  \n",
       "AAACCTGGTGATGCCC-1           NK                NK              NK_2  \n",
       "AAACGGGGTCATGCCG-1           NK                NK              NK_2  \n",
       "...                         ...               ...               ...  \n",
       "TTTGCGCCAGCGTTCG-1           NK  NK Proliferating  NK Proliferating  \n",
       "TTTGGTTCATGCCTTC-1           NK                NK              NK_2  \n",
       "TTTGTCAAGGACTGGT-1           NK                NK              NK_1  \n",
       "TTTGTCAAGTAGGCCA-1           NK                NK              NK_2  \n",
       "TTTGTCATCTGTCTCG-1           NK                NK              NK_2  \n",
       "\n",
       "[936 rows x 12 columns]"
      ]
     },
     "execution_count": 20,
     "metadata": {},
     "output_type": "execute_result"
    }
   ],
   "source": [
    "NK_2.obs"
   ]
  },
  {
   "cell_type": "code",
   "execution_count": 23,
   "id": "4dce7231",
   "metadata": {},
   "outputs": [
    {
     "data": {
      "text/plain": [
       "27426"
      ]
     },
     "execution_count": 23,
     "metadata": {},
     "output_type": "execute_result"
    }
   ],
   "source": [
    "NK_2.n_vars"
   ]
  },
  {
   "cell_type": "code",
   "execution_count": 14,
   "id": "d6695031",
   "metadata": {},
   "outputs": [],
   "source": [
    "# 歐式距離，目的在計算細胞之間的分散程度\n",
    "def EuclideanDistance(x, y):\n",
    "    return np.sqrt((x - y) ** 2)"
   ]
  },
  {
   "cell_type": "code",
   "execution_count": 15,
   "id": "ee06aad8",
   "metadata": {},
   "outputs": [],
   "source": [
    "# 隨機抽樣，抽取1000個不同的gene之後要做cell dispersion的計算\n",
    "def random_select(cell_type):\n",
    "    sampling = []\n",
    "    for i in range(0, 1000):\n",
    "        # 挑出gene的位置\n",
    "        gene = random.randrange(0, cell_type.n_vars)\n",
    "        while gene in sampling:\n",
    "            gene = random.randrange(0, cell_type.n_vars)\n",
    "        sampling.append(gene)\n",
    "\n",
    "    return sampling\n",
    "\n",
    "# 將1000個不同的gene放入新的dataframe中，以便後續進行計算\n",
    "def renew_sampling_list(sampling, cell_type):\n",
    "    # 紀錄1000個cell * gene的資料\n",
    "    cell_dispersion = []\n",
    "    # 先將 cell type 變成dataframe後，做 transpose 之後才能夠把挑選出來的 genes 放進去\n",
    "    cell_type_transpose = pd.DataFrame(data = cell_type.X.T, columns = cell_type.obs.index.values)\n",
    "\n",
    "    # 做1000次的隨機抽樣並且將結果\n",
    "    for i in range(0, 1000):\n",
    "        # 將dataframe塞進去新的list中\n",
    "        cell_dispersion.append(cell_type_transpose.loc[sampling[i]])\n",
    "    #將list轉成dataframe的格式\n",
    "    cell_dispersion = pd.DataFrame(cell_dispersion)\n",
    "    \n",
    "    return cell_dispersion\n",
    "\n",
    "# 準備隨機抽樣所需的gene位置\n",
    "sampling = random_select(NK)\n",
    "# 取得sampling的dataframe\n",
    "cell_dispersion = renew_sampling_list(sampling, NK)"
   ]
  },
  {
   "cell_type": "code",
   "execution_count": null,
   "id": "0a36a15c",
   "metadata": {},
   "outputs": [],
   "source": [
    "# 上面目前進度 : 已將隨機抽樣所需的dataframe pipeline做好\n",
    "#               接下來就是開始進行cell dispersion的計算\n",
    "#               將每次的計算都要新增一個變數儲存\n",
    "#               將每次的計算取平均\n",
    "#               確認1000次做完的cell dispersion如何"
   ]
  },
  {
   "cell_type": "code",
   "execution_count": null,
   "id": "37921740",
   "metadata": {},
   "outputs": [],
   "source": [
    "cell_dispersion"
   ]
  },
  {
   "cell_type": "code",
   "execution_count": null,
   "id": "961fac10",
   "metadata": {},
   "outputs": [],
   "source": [
    "#EuclideanDistance(cell_dispersion.T.loc[\"AACCATGAGGAATGGA-1\"],cell_dispersion.T.loc[\"AACACGTGTGACGGTA-1\"])"
   ]
  },
  {
   "cell_type": "code",
   "execution_count": 30,
   "id": "73570433",
   "metadata": {},
   "outputs": [],
   "source": [
    "# 將某一個人的 cell type 提取出來做cell dispersion, 之後再拿其他人的去做比較 \n",
    "\n",
    "# 要給numpy array的格式\n",
    "def create_distance_matrix(data):\n",
    "    # must be two dimension array, so need to change dataframe into array\n",
    "    ncells = data.shape[0]\n",
    "    \n",
    "    index1 = np.concatenate(tuple(np.repeat(i, ncells) for i in range(0,ncells)), axis =None)\n",
    "    index2 = np.tile(np.arange(0, ncells, 1), ncells)\n",
    "    \n",
    "    X = data[:, index1]\n",
    "    Y = data[:, index2]\n",
    "    \n",
    "    out = np.sqrt(np.sum((X - Y) * (X - Y), axis = 0))\n",
    "    distance_matrix = np.reshape(out, (ncells, ncells))\n",
    "    \n",
    "    return distance_matrix"
   ]
  },
  {
   "cell_type": "code",
   "execution_count": 31,
   "id": "4e3cd8b9",
   "metadata": {},
   "outputs": [
    {
     "data": {
      "text/plain": [
       "array([[0.        , 0.71764785, 0.80271417, ..., 0.65877694, 0.68991005,\n",
       "        0.5245686 ],\n",
       "       [0.71764785, 0.        , 1.273451  , ..., 0.15487331, 0.09842293,\n",
       "        0.2304856 ],\n",
       "       [0.80271417, 1.273451  , 0.        , ..., 1.2698385 , 1.2135725 ,\n",
       "        1.1259067 ],\n",
       "       ...,\n",
       "       [0.65877694, 0.15487331, 1.2698385 , ..., 0.        , 0.15137768,\n",
       "        0.14811802],\n",
       "       [0.68991005, 0.09842293, 1.2135725 , ..., 0.15137768, 0.        ,\n",
       "        0.18810984],\n",
       "       [0.5245686 , 0.2304856 , 1.1259067 , ..., 0.14811802, 0.18810984,\n",
       "        0.        ]], dtype=float32)"
      ]
     },
     "execution_count": 31,
     "metadata": {},
     "output_type": "execute_result"
    }
   ],
   "source": [
    "#cell_dispersion.T.loc[\"AACACGTGTGACGGTA-1\"]\n",
    "\n",
    "distance_matrix = create_distance_matrix(np.array(NK_1.X))\n",
    "#distance_matrix = pd.DataFrame(distance_matrix, columns=cell_dispersion.T.index, index= cell_dispersion.T.index)\n",
    "distance_matrix"
   ]
  },
  {
   "cell_type": "code",
   "execution_count": 32,
   "id": "53b385d9",
   "metadata": {},
   "outputs": [
    {
     "data": {
      "text/plain": [
       "15.52251239052688"
      ]
     },
     "execution_count": 32,
     "metadata": {},
     "output_type": "execute_result"
    }
   ],
   "source": [
    "# np.triu只取上三角，其餘的都變成0\n",
    "np.triu(distance_matrix).sum()/np.count_nonzero(np.triu(distance_matrix))"
   ]
  },
  {
   "cell_type": "code",
   "execution_count": 33,
   "id": "c4460bb7",
   "metadata": {},
   "outputs": [
    {
     "ename": "KeyboardInterrupt",
     "evalue": "",
     "output_type": "error",
     "traceback": [
      "\u001b[1;31m---------------------------------------------------------------------------\u001b[0m",
      "\u001b[1;31mKeyboardInterrupt\u001b[0m                         Traceback (most recent call last)",
      "Cell \u001b[1;32mIn [33], line 3\u001b[0m\n\u001b[0;32m      1\u001b[0m \u001b[38;5;66;03m#cell_dispersion.T.loc[\"AACACGTGTGACGGTA-1\"]\u001b[39;00m\n\u001b[1;32m----> 3\u001b[0m distance_matrix \u001b[38;5;241m=\u001b[39m \u001b[43mcreate_distance_matrix\u001b[49m\u001b[43m(\u001b[49m\u001b[43mnp\u001b[49m\u001b[38;5;241;43m.\u001b[39;49m\u001b[43marray\u001b[49m\u001b[43m(\u001b[49m\u001b[43mNK_2\u001b[49m\u001b[38;5;241;43m.\u001b[39;49m\u001b[43mX\u001b[49m\u001b[43m)\u001b[49m\u001b[43m)\u001b[49m\n\u001b[0;32m      4\u001b[0m \u001b[38;5;66;03m#distance_matrix = pd.DataFrame(distance_matrix, columns=cell_dispersion.T.index, index= cell_dispersion.T.index)\u001b[39;00m\n\u001b[0;32m      5\u001b[0m distance_matrix\n",
      "Cell \u001b[1;32mIn [30], line 14\u001b[0m, in \u001b[0;36mcreate_distance_matrix\u001b[1;34m(data)\u001b[0m\n\u001b[0;32m     11\u001b[0m X \u001b[38;5;241m=\u001b[39m data[:, index1]\n\u001b[0;32m     12\u001b[0m Y \u001b[38;5;241m=\u001b[39m data[:, index2]\n\u001b[1;32m---> 14\u001b[0m out \u001b[38;5;241m=\u001b[39m np\u001b[38;5;241m.\u001b[39msqrt(np\u001b[38;5;241m.\u001b[39msum(\u001b[43m(\u001b[49m\u001b[43mX\u001b[49m\u001b[43m \u001b[49m\u001b[38;5;241;43m-\u001b[39;49m\u001b[43m \u001b[49m\u001b[43mY\u001b[49m\u001b[43m)\u001b[49m\u001b[43m \u001b[49m\u001b[38;5;241;43m*\u001b[39;49m\u001b[43m \u001b[49m\u001b[43m(\u001b[49m\u001b[43mX\u001b[49m\u001b[43m \u001b[49m\u001b[38;5;241;43m-\u001b[39;49m\u001b[43m \u001b[49m\u001b[43mY\u001b[49m\u001b[43m)\u001b[49m, axis \u001b[38;5;241m=\u001b[39m \u001b[38;5;241m0\u001b[39m))\n\u001b[0;32m     15\u001b[0m distance_matrix \u001b[38;5;241m=\u001b[39m np\u001b[38;5;241m.\u001b[39mreshape(out, (ncells, ncells))\n\u001b[0;32m     17\u001b[0m \u001b[38;5;28;01mreturn\u001b[39;00m distance_matrix\n",
      "\u001b[1;31mKeyboardInterrupt\u001b[0m: "
     ]
    }
   ],
   "source": [
    "#cell_dispersion.T.loc[\"AACACGTGTGACGGTA-1\"]\n",
    "\n",
    "distance_matrix = create_distance_matrix(np.array(NK_2.X))\n",
    "#distance_matrix = pd.DataFrame(distance_matrix, columns=cell_dispersion.T.index, index= cell_dispersion.T.index)\n",
    "distance_matrix"
   ]
  },
  {
   "cell_type": "code",
   "execution_count": 35,
   "id": "4fe99258",
   "metadata": {},
   "outputs": [
    {
     "data": {
      "text/plain": [
       "936"
      ]
     },
     "execution_count": 35,
     "metadata": {},
     "output_type": "execute_result"
    }
   ],
   "source": [
    "len(np.array(NK_2.X))"
   ]
  },
  {
   "cell_type": "code",
   "execution_count": null,
   "id": "350c8f63",
   "metadata": {},
   "outputs": [],
   "source": []
  },
  {
   "cell_type": "markdown",
   "id": "9de1915e",
   "metadata": {},
   "source": [
    "# 下面這些是計算一個人所有的cell dispersion，並不是正確的，必須要先將不同cell type分開再去做這些"
   ]
  },
  {
   "cell_type": "code",
   "execution_count": null,
   "id": "16083ecf",
   "metadata": {},
   "outputs": [],
   "source": [
    "df = pd.DataFrame(data = personal[\"SAMN17379721\"].X, index = personal[\"SAMN17379721\"].obs.index.values)\n",
    "#df_euclidean = pd.DataFrame((df.diff())**2, columns = personal[\"SAMN17379721\"].obs.index.values)\n",
    "\n",
    "\n",
    "diffs = []\n",
    "for i in range(1, len(df)):\n",
    "    # calculate cell dispersion by EuclideanDistance\n",
    "    euclidean = EuclideanDistance(df[i], df[i-1])\n",
    "    diffs.append(euclidean)\n",
    "    \n",
    "df_euclidean = pd.DataFrame(diffs, columns = personal[\"SAMN17379721\"].obs.index.values)\n",
    "    \n",
    "df_euclidean"
   ]
  },
  {
   "cell_type": "code",
   "execution_count": null,
   "id": "8dc44236",
   "metadata": {},
   "outputs": [],
   "source": [
    "df"
   ]
  },
  {
   "cell_type": "code",
   "execution_count": null,
   "id": "52e82616",
   "metadata": {},
   "outputs": [],
   "source": [
    "# 這個不需要這個是做錯的\n",
    "\n",
    "\n",
    "\n",
    "\n",
    "\n",
    "# 目的在做Sampling，去做抽樣分布，預計做 1000次抽樣\n",
    "# C n 取 m = C(n,m)\n",
    "def combinations(n, m):\n",
    "    # n!/(m!*(n-m)!)\n",
    "    return math.factorial(n)//(math.factorial(m)*math.factorial(n-m))"
   ]
  }
 ],
 "metadata": {
  "kernelspec": {
   "display_name": "Python 3 (ipykernel)",
   "language": "python",
   "name": "python3"
  },
  "language_info": {
   "codemirror_mode": {
    "name": "ipython",
    "version": 3
   },
   "file_extension": ".py",
   "mimetype": "text/x-python",
   "name": "python",
   "nbconvert_exporter": "python",
   "pygments_lexer": "ipython3",
   "version": "3.8.2"
  }
 },
 "nbformat": 4,
 "nbformat_minor": 5
}
