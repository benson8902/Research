{
 "cells": [
  {
   "cell_type": "code",
   "execution_count": 1,
   "id": "83ceb56e",
   "metadata": {},
   "outputs": [],
   "source": [
    "import scanpy as sc\n",
    "import pandas as pd\n",
    "import numpy as np\n",
    "\n",
    "import xgboost as xgb\n",
    "from sklearn.linear_model import LinearRegression\n",
    "from sklearn.ensemble import RandomForestRegressor\n",
    "\n",
    "from sklearn.model_selection import GridSearchCV\n",
    "from sklearn.preprocessing import MinMaxScaler\n",
    "from sklearn import metrics\n",
    "from sklearn.model_selection import cross_val_score, KFold\n",
    "from sklearn.metrics import mean_squared_error, mean_absolute_error\n",
    "import matplotlib.pyplot as plt\n",
    "from scipy.stats import pearsonr\n",
    "\n",
    "\n",
    "import random"
   ]
  },
  {
   "cell_type": "code",
   "execution_count": 6,
   "id": "49b3d6a4",
   "metadata": {},
   "outputs": [],
   "source": [
    "def train_test_split(df, age, test_size=0.3):\n",
    "    all_numbers = set(range(int(len(df)/10)))\n",
    "    random_numbers = random.sample(sorted(all_numbers), int(len(df)/10*test_size))\n",
    "    #all_numbers -= set(random_numbers)  # 從所有數字中移除已經選取的數字\n",
    "    \n",
    "    X_test = pd.DataFrame()\n",
    "    y_test = pd.Series(dtype='int')\n",
    "    for i in random_numbers:\n",
    "        X_test = pd.concat([X_test, df.iloc[i*10:i*10+10]])\n",
    "        y_test = pd.concat([y_test, age.iloc[i*10:i*10+10]])\n",
    "        df = df.drop(df.index[i*10: i*10+10])\n",
    "        age = age.drop(age.index[i*10: i*10+10])\n",
    "    \n",
    "    X_train = df\n",
    "    y_train = age\n",
    "    \n",
    "    \n",
    "    return X_train, X_test, y_train, y_test, random_numbers\n",
    "\n",
    "def XGBR(X_train, X_test, y_train, y_test, n_estimators, max_depth, savefig):\n",
    "    # n_jobs=-1處理器全開\n",
    "    xgbrModel = xgb.XGBRegressor(n_estimators = n_estimators, n_jobs=-1, max_depth = max_depth, learning_rate=0.2, \n",
    "                                colsample_bytree = 1, gamma = 0.1, min_child_weight = 1,rate_drop=0.1, skip_drop=0.5, booster='dart',\n",
    "                                subsample = 0.8, eval_metric=\"rmse\", reg_alpha=0.1, reg_lambda=0.1)  \n",
    "    # 創建k折交叉驗證對象\n",
    "    kf = KFold(n_splits=10, shuffle=True)\n",
    "\n",
    "    # 進行 k-fold cross-validation，例如 k=10\n",
    "    scores = cross_val_score(xgbrModel, X_train, y_train, cv=kf)\n",
    "    print('Cross-validation scores: ', scores)\n",
    "\n",
    "    # train model with early stopping\n",
    "    eval_set = [(X_test, y_test)]\n",
    "    xgbrModel.fit(X_train, y_train, eval_set=[(X_test, y_test)], early_stopping_rounds=10, verbose=False)\n",
    "\n",
    "    y_pred = xgbrModel.predict(X_test)\n",
    "\n",
    "    # 計算均方誤差（Mean Squared Error, MSE）\n",
    "    mse = mean_squared_error(y_test, y_pred)\n",
    "    print(f'Mean Squared Error (MSE): {mse}')\n",
    "\n",
    "    # 計算平均絕對誤差（Mean Absolute Error, MAE）\n",
    "    mae = mean_absolute_error(y_test, y_pred)\n",
    "    print(f'Mean Absolute Error (MAE): {mae}')\n",
    "\n",
    "    # 預測成功的比例\n",
    "    print('Train Set score: ',xgbrModel.score(X_train,y_train))\n",
    "    print('Test Set score: ',xgbrModel.score(X_test,y_test))\n",
    "    # 計算皮爾森相關係數\n",
    "    corr, _ = pearsonr(y_test, y_pred)\n",
    "    print(f'Pearson correlation: {corr}')\n",
    "    plt.scatter(y_test, y_pred, s=10, label='True')\n",
    "\n",
    "    # 繪製對角線\n",
    "    min_val = np.min([np.min(y_test), np.min(y_pred)])  # 找到最小值\n",
    "    max_val = np.max([np.max(y_test), np.max(y_pred)])  # 找到最大值\n",
    "    plt.plot([min_val, max_val], [min_val, max_val], color='red', linestyle='dashed', label='Diagonal line')  # 繪製對角線\n",
    "\n",
    "    plt.xlabel('Chronological Age',fontsize = 16)\n",
    "    plt.ylabel('Predicted Age',fontsize = 16)\n",
    "    plt.title('Healthy',fontsize = 18)\n",
    "    plt.savefig(f\"model_result\\\\{savefig}.png\", dpi=300, bbox_inches='tight')\n",
    "    plt.show()\n",
    "   \n",
    "    print('特徵重要程度: ',xgbrModel.feature_importances_)\n",
    "    \n",
    "    return xgbrModel\n",
    "\n",
    "def xgbr_gridsearch(X_train, X_test, y_train, y_test, param_grid):\n",
    "    # 創建模型\n",
    "    xgbrModel = xgb.XGBRegressor(n_jobs=-1)\n",
    "\n",
    "    # 創建GridSearchCV對象\n",
    "    grid_search = GridSearchCV(estimator=xgbrModel, param_grid=param_grid, cv=3, scoring='neg_mean_squared_error')\n",
    "\n",
    "    # 開始搜索\n",
    "    grid_search.fit(X_train, y_train)\n",
    "\n",
    "    # 打印最佳參數\n",
    "    print('Best parameters found: ', grid_search.best_params_)\n",
    "\n",
    "    # 使用最佳參數創建新的模型\n",
    "    best_xgbrModel = grid_search.best_estimator_\n",
    "\n",
    "    # 使用新的模型進行預測\n",
    "    y_pred = best_xgbrModel.predict(X_test)\n",
    "\n",
    "    # 計算均方誤差（Mean Squared Error, MSE）\n",
    "    mse = mean_squared_error(y_test, y_pred)\n",
    "    print(f'Mean Squared Error (MSE): {mse}')\n",
    "\n",
    "    # 計算平均絕對誤差（Mean Absolute Error, MAE）\n",
    "    mae = mean_absolute_error(y_test, y_pred)\n",
    "    print(f'Mean Absolute Error (MAE): {mae}')\n",
    "\n",
    "    # 預測成功的比例\n",
    "    print('Train Set score: ',best_xgbrModel.score(X_train,y_train))\n",
    "    print('Test Set score: ',best_xgbrModel.score(X_test,y_test))\n",
    "    # 計算皮爾森相關係數\n",
    "    corr, _ = pearsonr(y_test, y_pred)\n",
    "    print(f'Pearson correlation: {corr}')\n",
    "    plt.scatter(y_test, y_pred, s=10, label='True')\n",
    "\n",
    "    # 繪製對角線\n",
    "    min_val = np.min([np.min(y_test), np.min(y_pred)])  # 找到最小值\n",
    "    max_val = np.max([np.max(y_test), np.max(y_pred)])  # 找到最大值\n",
    "    plt.plot([min_val, max_val], [min_val, max_val], color='red', linestyle='dashed', label='Diagonal line')  # 繪製對角線\n",
    "\n",
    "    plt.xlabel('Chronological Age',fontsize = 16)\n",
    "    plt.ylabel('Predicted Age',fontsize = 16)\n",
    "    plt.title('Healthy',fontsize = 18)\n",
    "    #plt.savefig(f\"model_result\\\\{savefig}.png\", dpi=300, bbox_inches='tight')\n",
    "    plt.show()\n",
    "   \n",
    "    print('特徵重要程度: ',best_xgbrModel.feature_importances_)\n",
    "    \n",
    "    return xgbrModel\n",
    "    \n",
    "# 定義要搜索的參數\n",
    "param_grid = {\n",
    "    'n_estimators': [15, 20, 25, 30, 35, 40, 45],\n",
    "    'max_depth': [2, 3, 4, 5],\n",
    "    'learning_rate': [0.1, 0.2],\n",
    "    'colsample_bytree': [0.3, 0.4, 0.5],\n",
    "    'gamma': [0.1, 0.2, 0.3],\n",
    "    'min_child_weight': [1, 2],\n",
    "    'rate_drop': [0.1, 0.2],\n",
    "    'skip_drop': [0.5],\n",
    "    'booster': ['dart'],\n",
    "    'subsample': [0.3, 0.4, 0.5, 0.6],\n",
    "    'eval_metric': ['rmse'],\n",
    "    'reg_alpha': [0.1, 0.2, 0.3],\n",
    "    'reg_lambda': [0.1, 0.2, 0.3]\n",
    "}"
   ]
  },
  {
   "cell_type": "code",
   "execution_count": 3,
   "id": "b4392a89",
   "metadata": {},
   "outputs": [
    {
     "name": "stderr",
     "output_type": "stream",
     "text": [
      "C:\\Users\\benson\\AppData\\Local\\Temp\\ipykernel_341988\\2321263589.py:15: FutureWarning: The default dtype for empty Series will be 'object' instead of 'float64' in a future version. Specify a dtype explicitly to silence this warning.\n",
      "  y_test = pd.Series()\n"
     ]
    }
   ],
   "source": [
    "with open(\"data_augmentation_GSE174188_intersection_with_GSE165080_GSE149689_GSE227991.csv\", 'r') as file:\n",
    "    df_data_augmentation = pd.read_csv(file, index_col = 0)\n",
    "with open(\"mean_and_stdev_GSE174188_intersection_with_GSE165080_GSE149689_GSE227991.csv\", 'r') as file:\n",
    "    df = pd.read_csv(file, index_col = 0)\n",
    "age_data_augmentation = df_data_augmentation[\"age\"].astype(int)\n",
    "#df = df.drop(columns = [\"mean_DC\",\"std_NK\", \"std_CD4T\", \"std_CD8T\", \"std_B\", \"std_Monocyte\", \"std_DC\"], axis = 1 )\n",
    "df_data_augmentation = df_data_augmentation.drop(columns = \"age\", axis = 1)\n",
    "\n",
    "X_train, X_test_data_augmentation, y_train, y_test_data_augmentation , random_numbers= train_test_split(df_data_augmentation, age_data_augmentation, 0.3)\n",
    "\n",
    "age = df[\"age\"].astype(int)\n",
    "df = df.drop(columns = \"age\", axis = 1)\n",
    "\n",
    "X_test = pd.DataFrame()\n",
    "y_test = pd.Series()\n",
    "X_test = pd.concat([X_test, df.iloc[random_numbers]])\n",
    "y_test = pd.concat([y_test, pd.Series(age.iloc[random_numbers])])"
   ]
  },
  {
   "cell_type": "code",
   "execution_count": 7,
   "id": "69e5a377",
   "metadata": {},
   "outputs": [
    {
     "name": "stdout",
     "output_type": "stream",
     "text": [
      "Best parameters found:  {'booster': 'dart', 'colsample_bytree': 0.4, 'eval_metric': 'rmse', 'gamma': 0.1, 'learning_rate': 0.1, 'max_depth': 2, 'min_child_weight': 2, 'n_estimators': 15, 'rate_drop': 0.2, 'reg_alpha': 0.3, 'reg_lambda': 0.1, 'skip_drop': 0.5, 'subsample': 0.3}\n",
      "Mean Squared Error (MSE): 344.6321946243013\n",
      "Mean Absolute Error (MAE): 18.541390171757453\n",
      "Train Set score:  0.24663386819224042\n",
      "Test Set score:  -409.51776124365296\n",
      "Pearson correlation: 0.2366917471889275\n"
     ]
    },
    {
     "data": {
      "image/png": "[encoded data removed]",
      "text/plain": [
       "<Figure size 640x480 with 1 Axes>"
      ]
     },
     "metadata": {},
     "output_type": "display_data"
    },
    {
     "name": "stdout",
     "output_type": "stream",
     "text": [
      "特徵重要程度:  [0.15880485 0.07647938 0.12960957 0.15064152 0.09235446 0.1530866\n",
      " 0.07858036 0.0099833  0.02229739 0.04065672 0.         0.08750585]\n"
     ]
    },
    {
     "ename": "NotFittedError",
     "evalue": "need to call fit or load_model beforehand",
     "output_type": "error",
     "traceback": [
      "\u001b[1;31m---------------------------------------------------------------------------\u001b[0m",
      "\u001b[1;31mNotFittedError\u001b[0m                            Traceback (most recent call last)",
      "Cell \u001b[1;32mIn[7], line 4\u001b[0m\n\u001b[0;32m      1\u001b[0m xgbrModel \u001b[38;5;241m=\u001b[39m xgbr_gridsearch(X_train, X_test, y_train, y_test, param_grid)\n\u001b[0;32m      3\u001b[0m \u001b[38;5;28;01mfrom\u001b[39;00m \u001b[38;5;21;01mxgboost\u001b[39;00m \u001b[38;5;28;01mimport\u001b[39;00m plot_importance\n\u001b[1;32m----> 4\u001b[0m plot_importance(xgbrModel)\n",
      "File \u001b[1;32mC:\\ProgramData\\anaconda3\\Lib\\site-packages\\xgboost\\plotting.py:88\u001b[0m, in \u001b[0;36mplot_importance\u001b[1;34m(booster, ax, height, xlim, ylim, title, xlabel, ylabel, fmap, importance_type, max_num_features, grid, show_values, values_format, **kwargs)\u001b[0m\n\u001b[0;32m     85\u001b[0m     \u001b[38;5;28;01mraise\u001b[39;00m \u001b[38;5;167;01mImportError\u001b[39;00m(\u001b[38;5;124m\"\u001b[39m\u001b[38;5;124mYou must install matplotlib to plot importance\u001b[39m\u001b[38;5;124m\"\u001b[39m) \u001b[38;5;28;01mfrom\u001b[39;00m \u001b[38;5;21;01me\u001b[39;00m\n\u001b[0;32m     87\u001b[0m \u001b[38;5;28;01mif\u001b[39;00m \u001b[38;5;28misinstance\u001b[39m(booster, XGBModel):\n\u001b[1;32m---> 88\u001b[0m     importance \u001b[38;5;241m=\u001b[39m booster\u001b[38;5;241m.\u001b[39mget_booster()\u001b[38;5;241m.\u001b[39mget_score(\n\u001b[0;32m     89\u001b[0m         importance_type\u001b[38;5;241m=\u001b[39mimportance_type, fmap\u001b[38;5;241m=\u001b[39mfmap\n\u001b[0;32m     90\u001b[0m     )\n\u001b[0;32m     91\u001b[0m \u001b[38;5;28;01melif\u001b[39;00m \u001b[38;5;28misinstance\u001b[39m(booster, Booster):\n\u001b[0;32m     92\u001b[0m     importance \u001b[38;5;241m=\u001b[39m booster\u001b[38;5;241m.\u001b[39mget_score(importance_type\u001b[38;5;241m=\u001b[39mimportance_type, fmap\u001b[38;5;241m=\u001b[39mfmap)\n",
      "File \u001b[1;32mC:\\ProgramData\\anaconda3\\Lib\\site-packages\\xgboost\\sklearn.py:738\u001b[0m, in \u001b[0;36mXGBModel.get_booster\u001b[1;34m(self)\u001b[0m\n\u001b[0;32m    735\u001b[0m \u001b[38;5;28;01mif\u001b[39;00m \u001b[38;5;129;01mnot\u001b[39;00m \u001b[38;5;28mself\u001b[39m\u001b[38;5;241m.\u001b[39m__sklearn_is_fitted__():\n\u001b[0;32m    736\u001b[0m     \u001b[38;5;28;01mfrom\u001b[39;00m \u001b[38;5;21;01msklearn\u001b[39;00m\u001b[38;5;21;01m.\u001b[39;00m\u001b[38;5;21;01mexceptions\u001b[39;00m \u001b[38;5;28;01mimport\u001b[39;00m NotFittedError\n\u001b[1;32m--> 738\u001b[0m     \u001b[38;5;28;01mraise\u001b[39;00m NotFittedError(\u001b[38;5;124m\"\u001b[39m\u001b[38;5;124mneed to call fit or load_model beforehand\u001b[39m\u001b[38;5;124m\"\u001b[39m)\n\u001b[0;32m    739\u001b[0m \u001b[38;5;28;01mreturn\u001b[39;00m \u001b[38;5;28mself\u001b[39m\u001b[38;5;241m.\u001b[39m_Booster\n",
      "\u001b[1;31mNotFittedError\u001b[0m: need to call fit or load_model beforehand"
     ]
    }
   ],
   "source": [
    "xgbrModel = xgbr_gridsearch(X_train, X_test, y_train, y_test, param_grid)\n",
    "\n",
    "from xgboost import plot_importance\n",
    "plot_importance(xgbrModel)"
   ]
  },
  {
   "cell_type": "code",
   "execution_count": null,
   "id": "ceb15951",
   "metadata": {},
   "outputs": [],
   "source": [
    "xgbrModel = XGBR(X_train, X_test, y_train, y_test, 45, 4, 'GSE174188_Healthy_XGBR')\n",
    "\n",
    "from xgboost import plot_importance\n",
    "plot_importance(xgbrModel)\n",
    "plt.savefig(\"model_result/GSE174188_Healthy_XGBR_importance_features.png\", dpi=300, bbox_inches='tight')"
   ]
  },
  {
   "cell_type": "code",
   "execution_count": null,
   "id": "31181771",
   "metadata": {
    "scrolled": false
   },
   "outputs": [],
   "source": [
    "#X_train, X_test, y_train, y_test , random_numbers= train_test_split(df_data_augmentation, age_data_augmentation, 0.3)\n",
    "xgbrModel = XGBR(X_train, X_test_data_augmentation, y_train, y_test_data_augmentation, 45, 4, 'GSE174188_Healthy_XGBR_data_augmentation')\n",
    "\n",
    "from xgboost import plot_importance\n",
    "plot_importance(xgbrModel)\n",
    "plt.savefig(\"model_result/GSE174188_Healthy_XGBR_data_augmentation_importance_features.png\", dpi=300, bbox_inches='tight')"
   ]
  },
  {
   "cell_type": "markdown",
   "id": "336dac0e",
   "metadata": {},
   "source": [
    "# GSE165080+GSE149689+GSE227991"
   ]
  },
  {
   "cell_type": "code",
   "execution_count": null,
   "id": "74df03eb",
   "metadata": {},
   "outputs": [],
   "source": [
    "with open(\"data_augmentation_GSE165080_GSE149689_GSE227991_gene_intersection_with_GSE174188.csv\", 'r') as file:\n",
    "    df = pd.read_csv(file, index_col = 0)\n",
    "age = df[\"age\"].astype(int)\n",
    "#df = df.drop(columns = [\"mean_DC\",\"std_NK\", \"std_CD4T\", \"std_CD8T\", \"std_B\", \"std_Monocyte\", \"std_DC\"], axis = 1 )\n",
    "df = df.drop(columns = \"age\", axis = 1)"
   ]
  },
  {
   "cell_type": "code",
   "execution_count": null,
   "id": "7e6d01e5",
   "metadata": {
    "scrolled": false
   },
   "outputs": [],
   "source": [
    "X_train, X_test, y_train, y_test , random_numbers= train_test_split(df, age, 0.3)\n",
    "xgbrModel = XGBR(X_train, X_test, y_train, y_test, 30, 4, \"GSE165080_GSE149689_GSE227991_XGBR_data_augmentation\")\n",
    "\n",
    "from xgboost import plot_importance\n",
    "plot_importance(xgbrModel)\n",
    "plt.savefig(\"model_result/GSE165080_GSE149689_GSE227991_XGBR_data_augmentation_importance_features.png\", dpi=300, bbox_inches='tight')"
   ]
  },
  {
   "cell_type": "code",
   "execution_count": null,
   "id": "f9a593f8",
   "metadata": {},
   "outputs": [],
   "source": []
  },
  {
   "cell_type": "raw",
   "id": "01e2c554",
   "metadata": {},
   "source": [
    "# GSE149689"
   ]
  },
  {
   "cell_type": "raw",
   "id": "fa34631e",
   "metadata": {},
   "source": [
    "with open(\"data_augmentation_GSE149689.csv\", 'r') as file:\n",
    "    df = pd.read_csv(file, index_col = 0)\n",
    "    \n",
    "age = df[\"age\"].astype(int)\n",
    "#df = df.drop(columns = [\"mean_DC\",\"std_NK\", \"std_CD4T\", \"std_CD8T\", \"std_B\", \"std_Monocyte\", \"std_DC\"], axis = 1 )\n",
    "df = df.drop(columns = \"age\", axis = 1)"
   ]
  },
  {
   "cell_type": "raw",
   "id": "1f214c78",
   "metadata": {},
   "source": [
    "X_train, X_test, y_train, y_test = train_test_split(df, age, 0.3)"
   ]
  },
  {
   "cell_type": "raw",
   "id": "f132f4ff",
   "metadata": {
    "scrolled": false
   },
   "source": [
    "xgbrModel = XGBR(X_train, X_test, y_train, y_test, \"GSE149689\")\n",
    "#print(\"===============================================================================================\")\n",
    "#RFR = RandomForestRegression(X_train, X_test, y_train, y_test, \"GSE149689\")"
   ]
  },
  {
   "cell_type": "raw",
   "id": "7e99445b",
   "metadata": {},
   "source": [
    "# GSE165080"
   ]
  },
  {
   "cell_type": "raw",
   "id": "01f994c2",
   "metadata": {},
   "source": [
    "with open(\"data_augmentation_GSE165080.csv\", 'r') as file:\n",
    "    df = pd.read_csv(file, index_col = 0)\n",
    "    \n",
    "age = df[\"age\"].astype(int)\n",
    "#df = df.drop(columns = [\"mean_DC\",\"std_NK\", \"std_CD4T\", \"std_CD8T\", \"std_B\", \"std_Monocyte\", \"std_DC\"], axis = 1 )\n",
    "df = df.drop(columns = \"age\", axis = 1)"
   ]
  },
  {
   "cell_type": "raw",
   "id": "675a53dd",
   "metadata": {},
   "source": [
    "X_train, X_test, y_train, y_test, X_validation, y_validation = train_test_validation_split(df, age, 0.3, 0.2)"
   ]
  },
  {
   "cell_type": "raw",
   "id": "c9452523",
   "metadata": {
    "scrolled": false
   },
   "source": [
    "xgbrModel = XGBR(X_train, X_test, y_train, y_test, \"GSE165080\")\n",
    "#print(\"===============================================================================================\")\n",
    "#RFR = RandomForestRegression(X_train, X_test, y_train, y_test, \"GSE165080\")"
   ]
  },
  {
   "cell_type": "raw",
   "id": "1ab8ec23",
   "metadata": {},
   "source": [
    "validation_result(xgbrModel, X_validation, y_validation, \"GSE165080\")"
   ]
  },
  {
   "cell_type": "markdown",
   "id": "1078ba76",
   "metadata": {},
   "source": [
    "# GSE174188"
   ]
  },
  {
   "cell_type": "code",
   "execution_count": null,
   "id": "20208fa1",
   "metadata": {},
   "outputs": [],
   "source": [
    "with open(\"data_augmentation_GSE174188.csv\", 'r') as file:\n",
    "    df = pd.read_csv(file, index_col = 0)\n",
    "age = df[\"age\"].astype(int)\n",
    "df = df.drop(columns = \"age\", axis = 1)"
   ]
  },
  {
   "cell_type": "code",
   "execution_count": null,
   "id": "6498baeb",
   "metadata": {},
   "outputs": [],
   "source": [
    "X_train, X_test, y_train, y_test = train_test_split(df, age, 0.3)"
   ]
  },
  {
   "cell_type": "code",
   "execution_count": null,
   "id": "841736ff",
   "metadata": {},
   "outputs": [],
   "source": [
    "xgbrModel = XGBR(X_train, X_test, y_train, y_test, 45, 4)"
   ]
  },
  {
   "cell_type": "code",
   "execution_count": null,
   "id": "0b904f5f",
   "metadata": {},
   "outputs": [],
   "source": [
    "with open(\"data_augmentation_GSE174188_SLE.csv\", 'r') as file:\n",
    "    df_SLE = pd.read_csv(file, index_col = 0)\n",
    "age_SLE = df_SLE[\"age\"].astype(int)\n",
    "df_SLE = df_SLE.drop(columns = \"age\", axis = 1)"
   ]
  },
  {
   "cell_type": "code",
   "execution_count": null,
   "id": "0883d14b",
   "metadata": {},
   "outputs": [],
   "source": [
    "validation_result(xgbrModel, df_SLE, age_SLE)"
   ]
  },
  {
   "cell_type": "markdown",
   "id": "301d0c79",
   "metadata": {},
   "source": [
    "# GSE165080 + GSE149689(BBKNN + Azimuth)"
   ]
  },
  {
   "cell_type": "code",
   "execution_count": null,
   "id": "795ae0bc",
   "metadata": {},
   "outputs": [],
   "source": [
    "with open(\"data_augmentation_merge(GSE165080,GSE149689).csv\", 'r') as file:\n",
    "    df = pd.read_csv(file, index_col = 0)\n",
    "with open('data_augmentation_GSE149689.csv', 'r') as file:\n",
    "    df_GSE149689 = pd.read_csv(file, index_col = 0)\n",
    "    \n",
    "age = df[\"age\"].astype(int)\n",
    "#df = df.drop(columns = [\"mean_DC\",\"std_NK\", \"std_CD4T\", \"std_CD8T\", \"std_B\", \"std_Monocyte\", \"std_DC\"], axis = 1 )\n",
    "df = df.drop(columns = \"age\", axis = 1)\n",
    "\n",
    "age_GSE149689 = df_GSE149689['age'].astype(int)\n",
    "df_GSE149689 = df_GSE149689.drop(columns = 'age', axis = 1)\n",
    "#df = df.drop(df_GSE149689.index)\n",
    "#age = age.drop(age_GSE149689.index)"
   ]
  },
  {
   "cell_type": "code",
   "execution_count": null,
   "id": "d0fcf09a",
   "metadata": {},
   "outputs": [],
   "source": [
    "set(age)"
   ]
  },
  {
   "cell_type": "code",
   "execution_count": null,
   "id": "b5ab854d",
   "metadata": {},
   "outputs": [],
   "source": [
    "X_train, X_test, y_train, y_test = train_test_split(df, age, 0.3)"
   ]
  },
  {
   "cell_type": "code",
   "execution_count": null,
   "id": "6d0aeb57",
   "metadata": {},
   "outputs": [],
   "source": [
    "xgbrModel = XGBR(X_train, X_test, y_train, y_test, 45, 4)"
   ]
  },
  {
   "cell_type": "markdown",
   "id": "b7b587a6",
   "metadata": {},
   "source": [
    "# GSE165080 + GSE149689(BBKNN)"
   ]
  },
  {
   "cell_type": "code",
   "execution_count": null,
   "id": "7e68c435",
   "metadata": {},
   "outputs": [],
   "source": [
    "with open(\"data_augmentation_merge(GSE165080,GSE149689).csv\", 'r') as file:\n",
    "    df = pd.read_csv(file, index_col = 0)\n",
    "with open('data_augmentation_GSE149689.csv', 'r') as file:\n",
    "    df_GSE149689 = pd.read_csv(file, index_col = 0)\n",
    "    \n",
    "age = df[\"age\"].astype(int)\n",
    "#df = df.drop(columns = [\"mean_DC\",\"std_NK\", \"std_CD4T\", \"std_CD8T\", \"std_B\", \"std_Monocyte\", \"std_DC\"], axis = 1 )\n",
    "df = df.drop(columns = \"age\", axis = 1)\n",
    "\n",
    "age_GSE149689 = df_GSE149689['age'].astype(int)\n",
    "df_GSE149689 = df_GSE149689.drop(columns = 'age', axis = 1)\n",
    "df = df.drop(df_GSE149689.index)\n",
    "age = age.drop(age_GSE149689.index)"
   ]
  },
  {
   "cell_type": "code",
   "execution_count": null,
   "id": "7d0ee20f",
   "metadata": {},
   "outputs": [],
   "source": [
    "X_train, X_test, y_train, y_test = train_test_split(df, age, 0.3)"
   ]
  },
  {
   "cell_type": "code",
   "execution_count": null,
   "id": "bfeedc43",
   "metadata": {},
   "outputs": [],
   "source": [
    "xgbrModel = XGBR(X_train, X_test, y_train, y_test, \"Merge(GSE165080,GSE149689)\", 45, 4)"
   ]
  },
  {
   "cell_type": "markdown",
   "id": "364b1904",
   "metadata": {},
   "source": [
    "# GSE165080 + GSE149689(Azimuth + BBKNN)"
   ]
  },
  {
   "cell_type": "code",
   "execution_count": null,
   "id": "0ae521c0",
   "metadata": {},
   "outputs": [],
   "source": [
    "with open(\"data_augmentation_combine_GSE165080_GSE149689.csv\", \"r\") as file:\n",
    "    df = pd.read_csv(file, index_col = 0)\n",
    "with open('data_augmentation_GSE149689.csv', 'r') as file:\n",
    "    df_GSE149689 = pd.read_csv(file, index_col = 0)\n",
    "    \n",
    "age = df['age'].astype(int)\n",
    "df = df.drop(columns = 'age', axis = 1)\n",
    "\n",
    "age_GSE149689 = df_GSE149689['age'].astype(int)\n",
    "df_GSE149689 = df_GSE149689.drop(columns = 'age', axis = 1)\n",
    "#df = df.drop(df_GSE149689.index)\n",
    "#age = age.drop(age_GSE149689.index)\n",
    "\n",
    "X_train, X_test, y_train, y_test = train_test_split(df, age, 0.3)"
   ]
  },
  {
   "cell_type": "code",
   "execution_count": null,
   "id": "b640536b",
   "metadata": {},
   "outputs": [],
   "source": [
    "xgbrModel = XGBR(X_train, X_test, y_train, y_test, \"Merge(GSE165080,GSE149689)\", 45, 8)"
   ]
  },
  {
   "cell_type": "code",
   "execution_count": null,
   "id": "3e437c85",
   "metadata": {},
   "outputs": [],
   "source": [
    "from xgboost import plot_importance\n",
    "plot_importance(xgbrModel)"
   ]
  },
  {
   "cell_type": "code",
   "execution_count": null,
   "id": "b32a5e55",
   "metadata": {},
   "outputs": [],
   "source": [
    "validation_result(xgbrModel, df_GSE149689, age_GSE149689, \"Merge(GSE165080,GSE149689)\")"
   ]
  },
  {
   "cell_type": "code",
   "execution_count": null,
   "id": "40bba14b",
   "metadata": {},
   "outputs": [],
   "source": [
    "lr = LR(X_train, X_test, y_train, y_test, \"Merge(GSE165080,GSE149689)\")"
   ]
  },
  {
   "cell_type": "markdown",
   "id": "0bdb3d02",
   "metadata": {},
   "source": [
    "# GSE165080 + GSE149689 + GSE174188(BBKNN)"
   ]
  },
  {
   "cell_type": "markdown",
   "id": "c98a60f9",
   "metadata": {},
   "source": [
    "Train >> GSE174188\n",
    "\n",
    "Test >> GSE174188\n",
    "\n",
    "Validation >> GSE165080 + GSE149689"
   ]
  },
  {
   "cell_type": "code",
   "execution_count": null,
   "id": "6c92338a",
   "metadata": {},
   "outputs": [],
   "source": [
    "with open(\"data_augmentation_merge(GSE165080,GSE149689,GSE174188).csv\", 'r') as file:\n",
    "    df = pd.read_csv(file, index_col = 0)\n",
    "with open(\"data_augmentation_combine_GSE165080_GSE149689.csv\", 'r') as file:\n",
    "    df_two_dataset = pd.read_csv(file, index_col = 0)\n",
    "age = df[\"age\"].astype(int)\n",
    "#df = df.drop(columns = [\"mean_DC\",\"std_NK\", \"std_CD4T\", \"std_CD8T\", \"std_B\", \"std_Monocyte\", \"std_DC\"], axis = 1 )\n",
    "df = df.drop(columns = \"age\", axis = 1)\n",
    "\n",
    "#df = df.drop(df_two_dataset.index)\n",
    "#age = age.drop(df_two_dataset[\"age\"].index)\n",
    "age_two_dataset = df_two_dataset[\"age\"].astype(int)\n",
    "df_two_dataset = df_two_dataset.drop(columns = 'age', axis=1)"
   ]
  },
  {
   "cell_type": "code",
   "execution_count": null,
   "id": "1ef47d3f",
   "metadata": {},
   "outputs": [],
   "source": [
    "df"
   ]
  },
  {
   "cell_type": "code",
   "execution_count": null,
   "id": "8bc8ddec",
   "metadata": {},
   "outputs": [],
   "source": [
    "#X_train, X_test, y_train, y_test, X_validation, y_validation= train_test_validation_split(df, age, 0.3, 0.1)"
   ]
  },
  {
   "cell_type": "code",
   "execution_count": null,
   "id": "ece4e125",
   "metadata": {},
   "outputs": [],
   "source": [
    "X_train, X_test, y_train, y_test= train_test_split(df, age, 0.2)\n",
    "xgbrModel = XGBR(X_train, X_test, y_train, y_test, \"Merge(GSE165080,GSE149689,GSE174188)\", 45, 4) "
   ]
  },
  {
   "cell_type": "code",
   "execution_count": null,
   "id": "59e19ece",
   "metadata": {},
   "outputs": [],
   "source": [
    "from xgboost import plot_importance\n",
    "plot_importance(xgbrModel)"
   ]
  },
  {
   "cell_type": "code",
   "execution_count": null,
   "id": "c2853689",
   "metadata": {},
   "outputs": [],
   "source": []
  },
  {
   "cell_type": "code",
   "execution_count": null,
   "id": "447abe26",
   "metadata": {},
   "outputs": [],
   "source": []
  },
  {
   "cell_type": "code",
   "execution_count": null,
   "id": "c4b769fc",
   "metadata": {},
   "outputs": [],
   "source": [
    "def RandomForestRegression(X_train, X_test, y_train, y_test, title, n_estimators=45):\n",
    "    # n_jobs=-1處理器全開\n",
    "    RFR = RandomForestRegressor(n_estimators=n_estimators, n_jobs=-1)# , random_state=0\n",
    "    # 創建k折交叉驗證對象\n",
    "    kf = KFold(n_splits=10, shuffle=True)\n",
    "    # 進行 k-fold cross-validation，例如 k=10\n",
    "    scores = cross_val_score(RFR, X_train, y_train, cv=kf)\n",
    "    print('Cross-validation scores: ', scores)\n",
    "\n",
    "    # train model\n",
    "    RFR.fit(X_train, y_train)\n",
    "\n",
    "    y_pred = RFR.predict(X_test)\n",
    "\n",
    "    # 計算均方誤差（Mean Squared Error, MSE）\n",
    "    mse = mean_squared_error(y_test, y_pred)\n",
    "    print(f'Mean Squared Error (MSE): {mse}')\n",
    "\n",
    "    # 計算平均絕對誤差（Mean Absolute Error, MAE）\n",
    "    mae = mean_absolute_error(y_test, y_pred)\n",
    "    print(f'Mean Absolute Error (MAE): {mae}')\n",
    "\n",
    "    # 預測成功的比例\n",
    "    print('Train Set score: ',RFR.score(X_train,y_train))\n",
    "    print('Test Set score: ',RFR.score(X_test,y_test))\n",
    "\n",
    "    # 計算皮爾森相關係數\n",
    "    corr, _ = pearsonr(y_test, y_pred)\n",
    "    print(f'Pearson correlation: {corr}')\n",
    "\n",
    "    plt.scatter(y_test, y_pred, s=10, label='True')\n",
    "    # 繪製對角線\n",
    "    min_val = np.min([np.min(y_test), np.min(y_pred)])  # 找到最小值\n",
    "    max_val = np.max([np.max(y_test), np.max(y_pred)])  # 找到最大值\n",
    "    \n",
    "    plt.suptitle(title)\n",
    "    plt.plot([min_val, max_val], [min_val, max_val], color='red', linestyle='dashed', label='Diagonal line')  # 繪製對角線\n",
    "    plt.xlabel('Actual Ages',fontsize = 14)\n",
    "    plt.ylabel('Predicted Ages',fontsize = 14)\n",
    "    plt.title('Actual vs Predicted Ages',fontsize = 16)\n",
    "    plt.show()\n",
    "    \n",
    "    \n",
    "    print('特徵重要程度: ',RFR.feature_importances_)\n",
    "    return RFR\n",
    "\n",
    "# Linear Regression\n",
    "def LR(X_train, X_test, y_train, y_test, title):\n",
    "    # n_jobs=-1處理器全開\n",
    "    model = LinearRegression(fit_intercept=True, n_jobs=-1)  \n",
    "    # 創建k折交叉驗證對象\n",
    "    kf = KFold(n_splits=10, shuffle=True)\n",
    "\n",
    "    # 進行 k-fold cross-validation，例如 k=10\n",
    "    scores = cross_val_score(model, X_train, y_train, cv=kf)\n",
    "    print('Cross-validation scores: ', scores)\n",
    "\n",
    "\n",
    "    model.fit(X_train, y_train)\n",
    "\n",
    "    y_pred = model.predict(X_test)\n",
    "\n",
    "    # 計算均方誤差（Mean Squared Error, MSE）\n",
    "    mse = mean_squared_error(y_test, y_pred)\n",
    "    print(f'Mean Squared Error (MSE): {mse}')\n",
    "\n",
    "    # 計算平均絕對誤差（Mean Absolute Error, MAE）\n",
    "    mae = mean_absolute_error(y_test, y_pred)\n",
    "    print(f'Mean Absolute Error (MAE): {mae}')\n",
    "\n",
    "    # 預測成功的比例\n",
    "    print('Train Set score: ',model.score(X_train,y_train))\n",
    "    print('Test Set score: ',model.score(X_test,y_test))\n",
    "    # 計算皮爾森相關係數\n",
    "    corr, _ = pearsonr(y_test, y_pred)\n",
    "    print(f'Pearson correlation: {corr}')\n",
    "    plt.scatter(y_test, y_pred, s=10, label='True')\n",
    "\n",
    "    # 繪製對角線\n",
    "    min_val = np.min([np.min(y_test), np.min(y_pred)])  # 找到最小值\n",
    "    max_val = np.max([np.max(y_test), np.max(y_pred)])  # 找到最大值\n",
    "    plt.plot([min_val, max_val], [min_val, max_val], color='red', linestyle='dashed', label='Diagonal line')  # 繪製對角線\n",
    "\n",
    "    plt.suptitle(title)\n",
    "    plt.xlabel('Actual Ages',fontsize = 14)\n",
    "    plt.ylabel('Predicted Ages',fontsize = 14)\n",
    "    plt.title('Actual vs Predicted Ages',fontsize = 16)\n",
    "    plt.savefig(\"Healthy_XGBR.png\", dpi=900)\n",
    "    plt.show()\n",
    "    \n",
    "   \n",
    "    print('特徵係數: ',model.coef_)\n",
    "    \n",
    "def validation_result(model, X_validation, y_validation):\n",
    "    #Validataion\n",
    "    y_pred_valid = model.predict(X_validation)\n",
    "\n",
    "    # 計算均方誤差（Mean Squared Error, MSE）\n",
    "    mse_valid = mean_squared_error(y_validation, y_pred_valid)\n",
    "    print(f'Mean Squared Error (MSE): {mse_valid}')\n",
    "\n",
    "    # 計算平均絕對誤差（Mean Absolute Error, MAE）\n",
    "    mae_valid = mean_absolute_error(y_validation, y_pred_valid)\n",
    "    print(f'Mean Absolute Error (MAE): {mae_valid}')\n",
    "\n",
    "    print('Validataion Set score: ',model.score(X_validation,y_validation))\n",
    "\n",
    "    # 計算皮爾森相關係數\n",
    "    corr_valid, _ = pearsonr(y_validation, y_pred_valid)\n",
    "    print(f'Pearson correlation: {corr_valid}')\n",
    "    plt.scatter(y_validation, y_pred_valid, s=10, label='True')\n",
    "\n",
    "    # 繪製對角線\n",
    "    min_val = np.min([np.min(y_validation), np.min(y_pred_valid)])  # 找到最小值\n",
    "    max_val = np.max([np.max(y_validation), np.max(y_pred_valid)])  # 找到最大值\n",
    "    plt.plot([min_val, max_val], [min_val, max_val], color='red', linestyle='dashed', label='Diagonal line')  # 繪製對角線\n",
    "\n",
    "    plt.xlabel('Chronological Age',fontsize = 16)\n",
    "    plt.ylabel('Predicted Age',fontsize = 16)\n",
    "    plt.title('GSE174188_Healthy',fontsize = 18)\n",
    "    #plt.savefig(\"SLE_XGBR.png\", dpi=900, bbox_inches='tight')\n",
    "    plt.show()"
   ]
  }
 ],
 "metadata": {
  "kernelspec": {
   "display_name": "Python 3 (ipykernel)",
   "language": "python",
   "name": "python3"
  },
  "language_info": {
   "codemirror_mode": {
    "name": "ipython",
    "version": 3
   },
   "file_extension": ".py",
   "mimetype": "text/x-python",
   "name": "python",
   "nbconvert_exporter": "python",
   "pygments_lexer": "ipython3",
   "version": "3.11.4"
  }
 },
 "nbformat": 4,
 "nbformat_minor": 5
}
