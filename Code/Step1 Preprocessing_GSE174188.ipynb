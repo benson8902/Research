{
 "cells": [
  {
   "cell_type": "code",
   "execution_count": 1,
   "id": "c3df4361",
   "metadata": {},
   "outputs": [],
   "source": [
    "import scanpy as sc\n",
    "import pandas as pd\n",
    "import numpy as np\n",
    "\n",
    "import matplotlib.pyplot as plt"
   ]
  },
  {
   "cell_type": "markdown",
   "id": "8297d186",
   "metadata": {},
   "source": [
    "# Read h5ad file"
   ]
  },
  {
   "cell_type": "code",
   "execution_count": 25,
   "id": "e764b975",
   "metadata": {},
   "outputs": [],
   "source": [
    "# 新建欄位把cell type做我要的分類\n",
    "def classify_cell_type(value):\n",
    "    if value == \"pDC\" or value == \"cDC\":\n",
    "        return \"DC\"\n",
    "    elif value == \"cM\" or value == \"ncM\":\n",
    "        return \"Monocyte\"\n",
    "    elif value == \"T4\":\n",
    "        return \"CD4 T\"\n",
    "    elif value == \"T8\":\n",
    "        return \"CD8 T\"\n",
    "    else:\n",
    "        return value\n",
    "    if value == \"cM\":\n",
    "        return \"cM\"\n",
    "    \n",
    "healthy.obs[\"cell_type_l1\"] = healthy.obs[\"cg_cov\"].apply(classify_cell_type)\n",
    "healthy_intersection.obs[\"cell_type_l1\"] = healthy_intersection.obs[\"cg_cov\"].apply(classify_cell_type)"
   ]
  },
  {
   "cell_type": "code",
   "execution_count": 2,
   "id": "040c419c",
   "metadata": {},
   "outputs": [],
   "source": [
    "healthy = sc.read_h5ad(\"GSE174188/GSE174188_Healthy.h5ad\")\n",
    "merge = sc.read_h5ad(\"bbknn_GSE165080_GSE149689_GSE227991.h5ad\")"
   ]
  },
  {
   "cell_type": "code",
   "execution_count": 6,
   "id": "847feab6",
   "metadata": {},
   "outputs": [],
   "source": [
    "healhty_gene = set(healthy.var_names)"
   ]
  },
  {
   "cell_type": "code",
   "execution_count": 7,
   "id": "0fcc7c55",
   "metadata": {},
   "outputs": [],
   "source": [
    "merge_gene = set(merge.var_names)"
   ]
  },
  {
   "cell_type": "code",
   "execution_count": 9,
   "id": "f3ce5ddf",
   "metadata": {},
   "outputs": [],
   "source": [
    "common_gene = healhty_gene.intersection(merge_gene)"
   ]
  },
  {
   "cell_type": "code",
   "execution_count": 28,
   "id": "e195f9e9",
   "metadata": {},
   "outputs": [
    {
     "data": {
      "text/html": [
       "<div>\n",
       "<style scoped>\n",
       "    .dataframe tbody tr th:only-of-type {\n",
       "        vertical-align: middle;\n",
       "    }\n",
       "\n",
       "    .dataframe tbody tr th {\n",
       "        vertical-align: top;\n",
       "    }\n",
       "\n",
       "    .dataframe thead th {\n",
       "        text-align: right;\n",
       "    }\n",
       "</style>\n",
       "<table border=\"1\" class=\"dataframe\">\n",
       "  <thead>\n",
       "    <tr style=\"text-align: right;\">\n",
       "      <th></th>\n",
       "      <th>batch_cov</th>\n",
       "      <th>ind_cov</th>\n",
       "      <th>Processing_Cohort</th>\n",
       "      <th>louvain</th>\n",
       "      <th>cg_cov</th>\n",
       "      <th>ct_cov</th>\n",
       "      <th>L3</th>\n",
       "      <th>ind_cov_batch_cov</th>\n",
       "      <th>Age</th>\n",
       "      <th>Sex</th>\n",
       "      <th>pop_cov</th>\n",
       "      <th>Status</th>\n",
       "      <th>SLE_status</th>\n",
       "      <th>cell_type</th>\n",
       "      <th>cell_type_l1</th>\n",
       "    </tr>\n",
       "  </thead>\n",
       "  <tbody>\n",
       "    <tr>\n",
       "      <th>CAAGGCCAGTATCGAA-1-1-0-0-0-0-0-0-0-0-0-0-0-0-0-0-0-0-0-0-0-0-0-0-0-0-0-0-0-0-0-0-0-0-0-0-0-0-0-0-0-0-0-0-0-0-0-0-0-0-0-0-0-0-0-0-0-0-0-0-0-0-0-0-0-0-0-0-1-0-0-0-0-0</th>\n",
       "      <td>dmx_YS-JY-22_pool6</td>\n",
       "      <td>HC-546</td>\n",
       "      <td>4.0</td>\n",
       "      <td>1</td>\n",
       "      <td>T4</td>\n",
       "      <td>T4_naive</td>\n",
       "      <td>1.0</td>\n",
       "      <td>HC-546:dmx_YS-JY-22_pool6</td>\n",
       "      <td>28.0</td>\n",
       "      <td>Female</td>\n",
       "      <td>Asian</td>\n",
       "      <td>Healthy</td>\n",
       "      <td>Healthy</td>\n",
       "      <td>CD4 T</td>\n",
       "      <td>CD4 T</td>\n",
       "    </tr>\n",
       "    <tr>\n",
       "      <th>GAACATCCAGCTATTG-1-1-0-0-0-0-0-0-0-0-0-0-0-0-0-0-0-0-0-0-0-0-0-0-0-0-0-0-0-0-0-0-0-0-0-0-0-0-0-1-0-0-0-0-0-0-0-0-0-0-0-0-0-0-0-0-0-0-0</th>\n",
       "      <td>dmx_YE_7-13</td>\n",
       "      <td>IGTB670_IGTB670</td>\n",
       "      <td>2.0</td>\n",
       "      <td>1</td>\n",
       "      <td>T4</td>\n",
       "      <td>T4_naive</td>\n",
       "      <td>0.0</td>\n",
       "      <td>IGTB670_IGTB670:dmx_YE_7-13</td>\n",
       "      <td>33.0</td>\n",
       "      <td>Female</td>\n",
       "      <td>European</td>\n",
       "      <td>Healthy</td>\n",
       "      <td>Healthy</td>\n",
       "      <td>CD4 T</td>\n",
       "      <td>CD4 T</td>\n",
       "    </tr>\n",
       "    <tr>\n",
       "      <th>TACCTATTCTACTATC-1-1-0-0-0-0-0-0-0-0-0-0-0-0-0-0-0-0-0-0-0-0-0-0-0-0-0-0-0-0-0-0-1-0-0-0-0-0-0-0-0-0-0-0-0-0-0-0-0-0</th>\n",
       "      <td>dmx_YE_7-20</td>\n",
       "      <td>IGTB1506_IGTB1506</td>\n",
       "      <td>2.0</td>\n",
       "      <td>3</td>\n",
       "      <td>B</td>\n",
       "      <td>B_naive</td>\n",
       "      <td>0.0</td>\n",
       "      <td>IGTB1506_IGTB1506:dmx_YE_7-20</td>\n",
       "      <td>30.0</td>\n",
       "      <td>Female</td>\n",
       "      <td>European</td>\n",
       "      <td>Healthy</td>\n",
       "      <td>Healthy</td>\n",
       "      <td>B</td>\n",
       "      <td>B</td>\n",
       "    </tr>\n",
       "    <tr>\n",
       "      <th>GTCATTTCAGAGTGTG-1-1-0-0-0-0-0-0-0-0-0-0-0-0-0-0-0-0-0-0-0-0-0-0-0-0-0-0-0-0-0-0-0-0-0-0-0-0-0-0-0-0-0-0-0-0-0-0-0-0-0-0-0-0-0-0-0-0-0-0-0-0-0-0-0-0-0-0-0-0-0-0-1-0-0-0-0-0-0</th>\n",
       "      <td>dmx_YS-JY-22_pool5</td>\n",
       "      <td>HC-540</td>\n",
       "      <td>4.0</td>\n",
       "      <td>2</td>\n",
       "      <td>T4</td>\n",
       "      <td>T4_em</td>\n",
       "      <td>1.0</td>\n",
       "      <td>HC-540:dmx_YS-JY-22_pool5</td>\n",
       "      <td>68.0</td>\n",
       "      <td>Female</td>\n",
       "      <td>European</td>\n",
       "      <td>Healthy</td>\n",
       "      <td>Healthy</td>\n",
       "      <td>CD4 T</td>\n",
       "      <td>CD4 T</td>\n",
       "    </tr>\n",
       "    <tr>\n",
       "      <th>AAAGATGGTTCACGGC-1-1-0-0-0-0-0-0-0-0-0-0-0-0-0-0-0-0-0-0-0-0-0-0-0-0-0-0-0-0-0-0-0-0-0-0-0-0-0-0-0-0-0-0-0-0-0-0-0-0-0-0-0-0-0-0-0-0-0-0-0-0-0-0-0-0-0-0-0-0-0-0-0-0-0-0-0-0-0-0-0-1-0-0-0-0-0-0-0-0-0-0</th>\n",
       "      <td>dmx_YS-JY-20_pool3</td>\n",
       "      <td>HC-006</td>\n",
       "      <td>4.0</td>\n",
       "      <td>1</td>\n",
       "      <td>T4</td>\n",
       "      <td>T4_naive</td>\n",
       "      <td>1.0</td>\n",
       "      <td>HC-006:dmx_YS-JY-20_pool3</td>\n",
       "      <td>53.0</td>\n",
       "      <td>Female</td>\n",
       "      <td>European</td>\n",
       "      <td>Healthy</td>\n",
       "      <td>Healthy</td>\n",
       "      <td>CD4 T</td>\n",
       "      <td>CD4 T</td>\n",
       "    </tr>\n",
       "    <tr>\n",
       "      <th>...</th>\n",
       "      <td>...</td>\n",
       "      <td>...</td>\n",
       "      <td>...</td>\n",
       "      <td>...</td>\n",
       "      <td>...</td>\n",
       "      <td>...</td>\n",
       "      <td>...</td>\n",
       "      <td>...</td>\n",
       "      <td>...</td>\n",
       "      <td>...</td>\n",
       "      <td>...</td>\n",
       "      <td>...</td>\n",
       "      <td>...</td>\n",
       "      <td>...</td>\n",
       "      <td>...</td>\n",
       "    </tr>\n",
       "    <tr>\n",
       "      <th>CCTCAGTCAGCTGTAT-1-1-0-0-0-0-0-0-0-0-0-0-0-0-0-0-0-0-0-0-0-0-0-0-0-0-0-0-0-0-0-0-0-0-0-1-0-0-0-0-0-0-0-0-0-0-0-0-0-0-0-0-0-0</th>\n",
       "      <td>dmx_YE_7-19</td>\n",
       "      <td>IGTB195_IGTB195</td>\n",
       "      <td>2.0</td>\n",
       "      <td>0</td>\n",
       "      <td>cM</td>\n",
       "      <td>NaN</td>\n",
       "      <td>0.0</td>\n",
       "      <td>IGTB195_IGTB195:dmx_YE_7-19</td>\n",
       "      <td>34.0</td>\n",
       "      <td>Female</td>\n",
       "      <td>European</td>\n",
       "      <td>Healthy</td>\n",
       "      <td>Healthy</td>\n",
       "      <td>Monocyte</td>\n",
       "      <td>Monocyte</td>\n",
       "    </tr>\n",
       "    <tr>\n",
       "      <th>ATCTACTAGGAGTTGC-1-1-0-0-0-0-0-0-0-0-0-0-0-0-0-0-0-0-0-0-1-0-0-0</th>\n",
       "      <td>dmx_count_AHCM2CDMXX_YE_0831</td>\n",
       "      <td>IGTB1827_IGTB1827</td>\n",
       "      <td>1.0</td>\n",
       "      <td>13</td>\n",
       "      <td>T4</td>\n",
       "      <td>T4_naive</td>\n",
       "      <td>0.0</td>\n",
       "      <td>IGTB1827_IGTB1827:dmx_count_AHCM2CDMXX_YE_0831</td>\n",
       "      <td>33.0</td>\n",
       "      <td>Female</td>\n",
       "      <td>European</td>\n",
       "      <td>Healthy</td>\n",
       "      <td>Healthy</td>\n",
       "      <td>CD4 T</td>\n",
       "      <td>CD4 T</td>\n",
       "    </tr>\n",
       "    <tr>\n",
       "      <th>GAATGAACACCGGAAA-1-1-0-0-0-0-0-0-0-0-0-0-0-0-0-0-0-0-0-0-0-0-0-0-0-0-0-0-0-0-0-0-0-0-0-0-0-0-0-0-0-0-0-0-0-0-0-0-0-0-0-0-0-0-0-0-0-0-0-0-0-0-0-0-0-0-1-0-0-0-0-0</th>\n",
       "      <td>dmx_YS-JY-22_pool6</td>\n",
       "      <td>HC-554</td>\n",
       "      <td>4.0</td>\n",
       "      <td>11</td>\n",
       "      <td>ncM</td>\n",
       "      <td>NaN</td>\n",
       "      <td>1.0</td>\n",
       "      <td>HC-554:dmx_YS-JY-22_pool6</td>\n",
       "      <td>49.0</td>\n",
       "      <td>Female</td>\n",
       "      <td>European</td>\n",
       "      <td>Healthy</td>\n",
       "      <td>Healthy</td>\n",
       "      <td>Monocyte</td>\n",
       "      <td>Monocyte</td>\n",
       "    </tr>\n",
       "    <tr>\n",
       "      <th>TAGCCGGGTACCGAGA-1-1-0-0-0-0-0-0-0-0-0-0-0-0-0-0-0-0-0-0-0-0-0-0-0-1-0-0-0-0</th>\n",
       "      <td>dmx_count_AH7TNHDMXX_YE_8-30</td>\n",
       "      <td>IGTB1895_IGTB1895</td>\n",
       "      <td>1.0</td>\n",
       "      <td>0</td>\n",
       "      <td>cM</td>\n",
       "      <td>NaN</td>\n",
       "      <td>0.0</td>\n",
       "      <td>IGTB1895_IGTB1895:dmx_count_AH7TNHDMXX_YE_8-30</td>\n",
       "      <td>27.0</td>\n",
       "      <td>Female</td>\n",
       "      <td>European</td>\n",
       "      <td>Healthy</td>\n",
       "      <td>Healthy</td>\n",
       "      <td>Monocyte</td>\n",
       "      <td>Monocyte</td>\n",
       "    </tr>\n",
       "    <tr>\n",
       "      <th>AACTCTTTCCGTAGGC-1-1-0-0-0-0-0-0-0-0-0-0-0-0-0-0-0-0-0-0-0-0-0-0-0-0-0-0-0-0-0-0-0-0-0-0-0-0-0-0-0-0-0-0-0-0-0-0-0-0-0-0-0-0-0-0-0-0-0-0-0-0-0-0-0-0-0-0-0-0-0-0-0-0-0-0-0-1-0-0-0-0-0-0-0-0-0</th>\n",
       "      <td>dmx_YS-JY-20_pool4</td>\n",
       "      <td>HC-526</td>\n",
       "      <td>4.0</td>\n",
       "      <td>8</td>\n",
       "      <td>cM</td>\n",
       "      <td>NaN</td>\n",
       "      <td>1.0</td>\n",
       "      <td>HC-526:dmx_YS-JY-20_pool4</td>\n",
       "      <td>58.0</td>\n",
       "      <td>Female</td>\n",
       "      <td>European</td>\n",
       "      <td>Healthy</td>\n",
       "      <td>Healthy</td>\n",
       "      <td>Monocyte</td>\n",
       "      <td>Monocyte</td>\n",
       "    </tr>\n",
       "  </tbody>\n",
       "</table>\n",
       "<p>486418 rows × 15 columns</p>\n",
       "</div>"
      ],
      "text/plain": [
       "                                                                       batch_cov  \\\n",
       "CAAGGCCAGTATCGAA-1-1-0-0-0-0-0-0-0-0-0-0-0-0-0-...            dmx_YS-JY-22_pool6   \n",
       "GAACATCCAGCTATTG-1-1-0-0-0-0-0-0-0-0-0-0-0-0-0-...                   dmx_YE_7-13   \n",
       "TACCTATTCTACTATC-1-1-0-0-0-0-0-0-0-0-0-0-0-0-0-...                   dmx_YE_7-20   \n",
       "GTCATTTCAGAGTGTG-1-1-0-0-0-0-0-0-0-0-0-0-0-0-0-...            dmx_YS-JY-22_pool5   \n",
       "AAAGATGGTTCACGGC-1-1-0-0-0-0-0-0-0-0-0-0-0-0-0-...            dmx_YS-JY-20_pool3   \n",
       "...                                                                          ...   \n",
       "CCTCAGTCAGCTGTAT-1-1-0-0-0-0-0-0-0-0-0-0-0-0-0-...                   dmx_YE_7-19   \n",
       "ATCTACTAGGAGTTGC-1-1-0-0-0-0-0-0-0-0-0-0-0-0-0-...  dmx_count_AHCM2CDMXX_YE_0831   \n",
       "GAATGAACACCGGAAA-1-1-0-0-0-0-0-0-0-0-0-0-0-0-0-...            dmx_YS-JY-22_pool6   \n",
       "TAGCCGGGTACCGAGA-1-1-0-0-0-0-0-0-0-0-0-0-0-0-0-...  dmx_count_AH7TNHDMXX_YE_8-30   \n",
       "AACTCTTTCCGTAGGC-1-1-0-0-0-0-0-0-0-0-0-0-0-0-0-...            dmx_YS-JY-20_pool4   \n",
       "\n",
       "                                                              ind_cov  \\\n",
       "CAAGGCCAGTATCGAA-1-1-0-0-0-0-0-0-0-0-0-0-0-0-0-...             HC-546   \n",
       "GAACATCCAGCTATTG-1-1-0-0-0-0-0-0-0-0-0-0-0-0-0-...    IGTB670_IGTB670   \n",
       "TACCTATTCTACTATC-1-1-0-0-0-0-0-0-0-0-0-0-0-0-0-...  IGTB1506_IGTB1506   \n",
       "GTCATTTCAGAGTGTG-1-1-0-0-0-0-0-0-0-0-0-0-0-0-0-...             HC-540   \n",
       "AAAGATGGTTCACGGC-1-1-0-0-0-0-0-0-0-0-0-0-0-0-0-...             HC-006   \n",
       "...                                                               ...   \n",
       "CCTCAGTCAGCTGTAT-1-1-0-0-0-0-0-0-0-0-0-0-0-0-0-...    IGTB195_IGTB195   \n",
       "ATCTACTAGGAGTTGC-1-1-0-0-0-0-0-0-0-0-0-0-0-0-0-...  IGTB1827_IGTB1827   \n",
       "GAATGAACACCGGAAA-1-1-0-0-0-0-0-0-0-0-0-0-0-0-0-...             HC-554   \n",
       "TAGCCGGGTACCGAGA-1-1-0-0-0-0-0-0-0-0-0-0-0-0-0-...  IGTB1895_IGTB1895   \n",
       "AACTCTTTCCGTAGGC-1-1-0-0-0-0-0-0-0-0-0-0-0-0-0-...             HC-526   \n",
       "\n",
       "                                                   Processing_Cohort louvain  \\\n",
       "CAAGGCCAGTATCGAA-1-1-0-0-0-0-0-0-0-0-0-0-0-0-0-...               4.0       1   \n",
       "GAACATCCAGCTATTG-1-1-0-0-0-0-0-0-0-0-0-0-0-0-0-...               2.0       1   \n",
       "TACCTATTCTACTATC-1-1-0-0-0-0-0-0-0-0-0-0-0-0-0-...               2.0       3   \n",
       "GTCATTTCAGAGTGTG-1-1-0-0-0-0-0-0-0-0-0-0-0-0-0-...               4.0       2   \n",
       "AAAGATGGTTCACGGC-1-1-0-0-0-0-0-0-0-0-0-0-0-0-0-...               4.0       1   \n",
       "...                                                              ...     ...   \n",
       "CCTCAGTCAGCTGTAT-1-1-0-0-0-0-0-0-0-0-0-0-0-0-0-...               2.0       0   \n",
       "ATCTACTAGGAGTTGC-1-1-0-0-0-0-0-0-0-0-0-0-0-0-0-...               1.0      13   \n",
       "GAATGAACACCGGAAA-1-1-0-0-0-0-0-0-0-0-0-0-0-0-0-...               4.0      11   \n",
       "TAGCCGGGTACCGAGA-1-1-0-0-0-0-0-0-0-0-0-0-0-0-0-...               1.0       0   \n",
       "AACTCTTTCCGTAGGC-1-1-0-0-0-0-0-0-0-0-0-0-0-0-0-...               4.0       8   \n",
       "\n",
       "                                                   cg_cov    ct_cov   L3  \\\n",
       "CAAGGCCAGTATCGAA-1-1-0-0-0-0-0-0-0-0-0-0-0-0-0-...     T4  T4_naive  1.0   \n",
       "GAACATCCAGCTATTG-1-1-0-0-0-0-0-0-0-0-0-0-0-0-0-...     T4  T4_naive  0.0   \n",
       "TACCTATTCTACTATC-1-1-0-0-0-0-0-0-0-0-0-0-0-0-0-...      B   B_naive  0.0   \n",
       "GTCATTTCAGAGTGTG-1-1-0-0-0-0-0-0-0-0-0-0-0-0-0-...     T4     T4_em  1.0   \n",
       "AAAGATGGTTCACGGC-1-1-0-0-0-0-0-0-0-0-0-0-0-0-0-...     T4  T4_naive  1.0   \n",
       "...                                                   ...       ...  ...   \n",
       "CCTCAGTCAGCTGTAT-1-1-0-0-0-0-0-0-0-0-0-0-0-0-0-...     cM       NaN  0.0   \n",
       "ATCTACTAGGAGTTGC-1-1-0-0-0-0-0-0-0-0-0-0-0-0-0-...     T4  T4_naive  0.0   \n",
       "GAATGAACACCGGAAA-1-1-0-0-0-0-0-0-0-0-0-0-0-0-0-...    ncM       NaN  1.0   \n",
       "TAGCCGGGTACCGAGA-1-1-0-0-0-0-0-0-0-0-0-0-0-0-0-...     cM       NaN  0.0   \n",
       "AACTCTTTCCGTAGGC-1-1-0-0-0-0-0-0-0-0-0-0-0-0-0-...     cM       NaN  1.0   \n",
       "\n",
       "                                                                                 ind_cov_batch_cov  \\\n",
       "CAAGGCCAGTATCGAA-1-1-0-0-0-0-0-0-0-0-0-0-0-0-0-...                       HC-546:dmx_YS-JY-22_pool6   \n",
       "GAACATCCAGCTATTG-1-1-0-0-0-0-0-0-0-0-0-0-0-0-0-...                     IGTB670_IGTB670:dmx_YE_7-13   \n",
       "TACCTATTCTACTATC-1-1-0-0-0-0-0-0-0-0-0-0-0-0-0-...                   IGTB1506_IGTB1506:dmx_YE_7-20   \n",
       "GTCATTTCAGAGTGTG-1-1-0-0-0-0-0-0-0-0-0-0-0-0-0-...                       HC-540:dmx_YS-JY-22_pool5   \n",
       "AAAGATGGTTCACGGC-1-1-0-0-0-0-0-0-0-0-0-0-0-0-0-...                       HC-006:dmx_YS-JY-20_pool3   \n",
       "...                                                                                            ...   \n",
       "CCTCAGTCAGCTGTAT-1-1-0-0-0-0-0-0-0-0-0-0-0-0-0-...                     IGTB195_IGTB195:dmx_YE_7-19   \n",
       "ATCTACTAGGAGTTGC-1-1-0-0-0-0-0-0-0-0-0-0-0-0-0-...  IGTB1827_IGTB1827:dmx_count_AHCM2CDMXX_YE_0831   \n",
       "GAATGAACACCGGAAA-1-1-0-0-0-0-0-0-0-0-0-0-0-0-0-...                       HC-554:dmx_YS-JY-22_pool6   \n",
       "TAGCCGGGTACCGAGA-1-1-0-0-0-0-0-0-0-0-0-0-0-0-0-...  IGTB1895_IGTB1895:dmx_count_AH7TNHDMXX_YE_8-30   \n",
       "AACTCTTTCCGTAGGC-1-1-0-0-0-0-0-0-0-0-0-0-0-0-0-...                       HC-526:dmx_YS-JY-20_pool4   \n",
       "\n",
       "                                                     Age     Sex   pop_cov  \\\n",
       "CAAGGCCAGTATCGAA-1-1-0-0-0-0-0-0-0-0-0-0-0-0-0-...  28.0  Female     Asian   \n",
       "GAACATCCAGCTATTG-1-1-0-0-0-0-0-0-0-0-0-0-0-0-0-...  33.0  Female  European   \n",
       "TACCTATTCTACTATC-1-1-0-0-0-0-0-0-0-0-0-0-0-0-0-...  30.0  Female  European   \n",
       "GTCATTTCAGAGTGTG-1-1-0-0-0-0-0-0-0-0-0-0-0-0-0-...  68.0  Female  European   \n",
       "AAAGATGGTTCACGGC-1-1-0-0-0-0-0-0-0-0-0-0-0-0-0-...  53.0  Female  European   \n",
       "...                                                  ...     ...       ...   \n",
       "CCTCAGTCAGCTGTAT-1-1-0-0-0-0-0-0-0-0-0-0-0-0-0-...  34.0  Female  European   \n",
       "ATCTACTAGGAGTTGC-1-1-0-0-0-0-0-0-0-0-0-0-0-0-0-...  33.0  Female  European   \n",
       "GAATGAACACCGGAAA-1-1-0-0-0-0-0-0-0-0-0-0-0-0-0-...  49.0  Female  European   \n",
       "TAGCCGGGTACCGAGA-1-1-0-0-0-0-0-0-0-0-0-0-0-0-0-...  27.0  Female  European   \n",
       "AACTCTTTCCGTAGGC-1-1-0-0-0-0-0-0-0-0-0-0-0-0-0-...  58.0  Female  European   \n",
       "\n",
       "                                                     Status SLE_status  \\\n",
       "CAAGGCCAGTATCGAA-1-1-0-0-0-0-0-0-0-0-0-0-0-0-0-...  Healthy    Healthy   \n",
       "GAACATCCAGCTATTG-1-1-0-0-0-0-0-0-0-0-0-0-0-0-0-...  Healthy    Healthy   \n",
       "TACCTATTCTACTATC-1-1-0-0-0-0-0-0-0-0-0-0-0-0-0-...  Healthy    Healthy   \n",
       "GTCATTTCAGAGTGTG-1-1-0-0-0-0-0-0-0-0-0-0-0-0-0-...  Healthy    Healthy   \n",
       "AAAGATGGTTCACGGC-1-1-0-0-0-0-0-0-0-0-0-0-0-0-0-...  Healthy    Healthy   \n",
       "...                                                     ...        ...   \n",
       "CCTCAGTCAGCTGTAT-1-1-0-0-0-0-0-0-0-0-0-0-0-0-0-...  Healthy    Healthy   \n",
       "ATCTACTAGGAGTTGC-1-1-0-0-0-0-0-0-0-0-0-0-0-0-0-...  Healthy    Healthy   \n",
       "GAATGAACACCGGAAA-1-1-0-0-0-0-0-0-0-0-0-0-0-0-0-...  Healthy    Healthy   \n",
       "TAGCCGGGTACCGAGA-1-1-0-0-0-0-0-0-0-0-0-0-0-0-0-...  Healthy    Healthy   \n",
       "AACTCTTTCCGTAGGC-1-1-0-0-0-0-0-0-0-0-0-0-0-0-0-...  Healthy    Healthy   \n",
       "\n",
       "                                                   cell_type cell_type_l1  \n",
       "CAAGGCCAGTATCGAA-1-1-0-0-0-0-0-0-0-0-0-0-0-0-0-...     CD4 T        CD4 T  \n",
       "GAACATCCAGCTATTG-1-1-0-0-0-0-0-0-0-0-0-0-0-0-0-...     CD4 T        CD4 T  \n",
       "TACCTATTCTACTATC-1-1-0-0-0-0-0-0-0-0-0-0-0-0-0-...         B            B  \n",
       "GTCATTTCAGAGTGTG-1-1-0-0-0-0-0-0-0-0-0-0-0-0-0-...     CD4 T        CD4 T  \n",
       "AAAGATGGTTCACGGC-1-1-0-0-0-0-0-0-0-0-0-0-0-0-0-...     CD4 T        CD4 T  \n",
       "...                                                      ...          ...  \n",
       "CCTCAGTCAGCTGTAT-1-1-0-0-0-0-0-0-0-0-0-0-0-0-0-...  Monocyte     Monocyte  \n",
       "ATCTACTAGGAGTTGC-1-1-0-0-0-0-0-0-0-0-0-0-0-0-0-...     CD4 T        CD4 T  \n",
       "GAATGAACACCGGAAA-1-1-0-0-0-0-0-0-0-0-0-0-0-0-0-...  Monocyte     Monocyte  \n",
       "TAGCCGGGTACCGAGA-1-1-0-0-0-0-0-0-0-0-0-0-0-0-0-...  Monocyte     Monocyte  \n",
       "AACTCTTTCCGTAGGC-1-1-0-0-0-0-0-0-0-0-0-0-0-0-0-...  Monocyte     Monocyte  \n",
       "\n",
       "[486418 rows x 15 columns]"
      ]
     },
     "execution_count": 28,
     "metadata": {},
     "output_type": "execute_result"
    }
   ],
   "source": [
    "healthy.obs"
   ]
  },
  {
   "cell_type": "code",
   "execution_count": 13,
   "id": "0fdda01d",
   "metadata": {},
   "outputs": [
    {
     "data": {
      "text/plain": [
       "View of AnnData object with n_obs × n_vars = 95261 × 1160\n",
       "    obs: 'Age', 'Gender', 'BioSample', 'n_genes', 'cell_type_l1', 'cell_type_l2', 'cell_type_l3', 'n_genes_by_counts', 'total_counts', 'total_counts_mt', 'pct_counts_mt', 'louvain'\n",
       "    var: 'mt', 'n_cells_by_counts', 'mean_counts', 'pct_dropout_by_counts', 'total_counts', 'mean', 'std'\n",
       "    uns: 'cell_type_l1_colors', 'log1p', 'louvain', 'louvain_colors', 'louvain_sizes', 'neighbors', 'paga', 'pca', 'umap'\n",
       "    obsm: 'X_pca', 'X_umap'\n",
       "    varm: 'PCs'\n",
       "    obsp: 'connectivities', 'distances'"
      ]
     },
     "execution_count": 13,
     "metadata": {},
     "output_type": "execute_result"
    }
   ],
   "source": [
    "healthy_intersection = healthy[:, healthy.var_names.isin(common_gene)]\n",
    "merge_intersection = merge[:, merge.var_names.isin(common_gene)]\n",
    "merge_intersection"
   ]
  },
  {
   "cell_type": "code",
   "execution_count": 15,
   "id": "c6a85951",
   "metadata": {},
   "outputs": [
    {
     "data": {
      "text/plain": [
       "AnnData object with n_obs × n_vars = 95261 × 10619\n",
       "    obs: 'Age', 'Gender', 'BioSample', 'n_genes', 'cell_type_l1', 'cell_type_l2', 'cell_type_l3', 'n_genes_by_counts', 'total_counts', 'total_counts_mt', 'pct_counts_mt', 'louvain'\n",
       "    var: 'mt', 'n_cells_by_counts', 'mean_counts', 'pct_dropout_by_counts', 'total_counts', 'mean', 'std'\n",
       "    uns: 'cell_type_l1_colors', 'log1p', 'louvain', 'louvain_colors', 'louvain_sizes', 'neighbors', 'paga', 'pca', 'umap'\n",
       "    obsm: 'X_pca', 'X_umap'\n",
       "    varm: 'PCs'\n",
       "    obsp: 'connectivities', 'distances'"
      ]
     },
     "execution_count": 15,
     "metadata": {},
     "output_type": "execute_result"
    }
   ],
   "source": [
    "merge"
   ]
  },
  {
   "cell_type": "code",
   "execution_count": 26,
   "id": "6ad05007",
   "metadata": {},
   "outputs": [],
   "source": [
    "merge_intersection.write_h5ad(\"bbknn_GSE165080_GSE149689_GSE227991_gene_intersection_with_GSE174188.h5ad\")"
   ]
  },
  {
   "cell_type": "code",
   "execution_count": 29,
   "id": "5db818ee",
   "metadata": {},
   "outputs": [],
   "source": [
    "#healthy_intersection.write_h5ad(\"GSE174188_gene_intersection_with_GSE165080_GSE149689_GSE227991.h5ad\")\n",
    "healthy.write_h5ad(\"GSE174188/GSE174188_Healthy.h5ad\")"
   ]
  },
  {
   "cell_type": "code",
   "execution_count": null,
   "id": "d343514f",
   "metadata": {},
   "outputs": [],
   "source": [
    "healthy.obs"
   ]
  },
  {
   "cell_type": "code",
   "execution_count": null,
   "id": "6e0ed3b0",
   "metadata": {},
   "outputs": [],
   "source": [
    "healthy.var_names_make_unique()\n",
    "healthy.obs_names_make_unique()\n",
    "#sc.pp.filter_cells(raw, min_genes=200)\n",
    "#sc.pp.filter_genes(raw, min_cells=3)\n",
    "healthy"
   ]
  },
  {
   "cell_type": "code",
   "execution_count": null,
   "id": "d25a5a0d",
   "metadata": {},
   "outputs": [],
   "source": [
    "healthy.X[1,12]"
   ]
  },
  {
   "cell_type": "code",
   "execution_count": null,
   "id": "a3364d13",
   "metadata": {},
   "outputs": [],
   "source": [
    "sc.pp.scale(healthy, max_value=10)\n",
    "sc.tl.pca(healthy, svd_solver='arpack')\n",
    "sc.pl.pca_variance_ratio(healthy, log=True)"
   ]
  },
  {
   "cell_type": "code",
   "execution_count": null,
   "id": "8a1a315b",
   "metadata": {},
   "outputs": [],
   "source": [
    "sc.pp.neighbors(healthy, n_neighbors=10, n_pcs=40)\n",
    "sc.tl.leiden(healthy)"
   ]
  },
  {
   "cell_type": "code",
   "execution_count": null,
   "id": "3d6c55d3",
   "metadata": {},
   "outputs": [],
   "source": [
    "# default use leiden透過leiden去計算那個gene expression的部分去挑出最後的權重\n",
    "#再多維的空間做hireachecal(階層的)挑選，clustering會越來越少，直到hirachical跟cluster一樣才會結束\n",
    "\n",
    "sc.tl.paga(healthy)\n",
    "sc.pl.paga(healthy)"
   ]
  },
  {
   "cell_type": "code",
   "execution_count": null,
   "id": "c3c4d943",
   "metadata": {},
   "outputs": [],
   "source": [
    "sc.tl.umap(healthy, init_pos='paga')\n",
    "sc.pl.umap(healthy, color = \"leiden\")"
   ]
  },
  {
   "cell_type": "code",
   "execution_count": null,
   "id": "7cc7ab37",
   "metadata": {},
   "outputs": [],
   "source": [
    "healthy.X"
   ]
  },
  {
   "cell_type": "code",
   "execution_count": null,
   "id": "202c2903",
   "metadata": {},
   "outputs": [],
   "source": [
    "healthy"
   ]
  },
  {
   "cell_type": "code",
   "execution_count": null,
   "id": "1ac1fcda",
   "metadata": {},
   "outputs": [],
   "source": [
    "healthy.write_h5ad(\"GSE174188_pre.h5ad\")"
   ]
  },
  {
   "cell_type": "markdown",
   "id": "7197d54a",
   "metadata": {},
   "source": [
    "# 讀取已經寫好的檔案"
   ]
  },
  {
   "cell_type": "code",
   "execution_count": null,
   "id": "4974d732",
   "metadata": {},
   "outputs": [],
   "source": [
    "raw = sc.read_h5ad(\"Data/GSE165080_healthy.h5ad\")"
   ]
  },
  {
   "cell_type": "code",
   "execution_count": null,
   "id": "14189a11",
   "metadata": {},
   "outputs": [],
   "source": [
    "raw"
   ]
  },
  {
   "cell_type": "markdown",
   "id": "b85b66ec",
   "metadata": {},
   "source": [
    "# 統整cells and genes的數量"
   ]
  },
  {
   "cell_type": "code",
   "execution_count": null,
   "id": "c467b24c",
   "metadata": {},
   "outputs": [],
   "source": [
    "cells_and_genes = {}\n",
    "\n",
    "for i in range(0, Raw.n_obs):\n",
    "    cells_and_genes[Raw.obs.BioSample[i]] = []\n",
    "for i in cells_and_genes:\n",
    "    healthy = Raw[Raw.obs[\"BioSample\"] == i, :]\n",
    "    cells_and_genes[i] = [f\"{healthy.n_obs}*{healthy.n_vars}\"]\n",
    "    print(i)"
   ]
  },
  {
   "cell_type": "code",
   "execution_count": null,
   "id": "e9b840b5",
   "metadata": {},
   "outputs": [],
   "source": [
    "cells_and_genes"
   ]
  },
  {
   "cell_type": "code",
   "execution_count": null,
   "id": "1f6d68ab",
   "metadata": {},
   "outputs": [],
   "source": []
  },
  {
   "cell_type": "code",
   "execution_count": null,
   "id": "22f4e63c",
   "metadata": {},
   "outputs": [],
   "source": []
  },
  {
   "cell_type": "code",
   "execution_count": null,
   "id": "e42cf815",
   "metadata": {},
   "outputs": [],
   "source": []
  },
  {
   "cell_type": "markdown",
   "id": "58622da2",
   "metadata": {},
   "source": [
    "# 紀錄檔案的性別、年齡、資料集"
   ]
  },
  {
   "cell_type": "code",
   "execution_count": null,
   "id": "c10df39e",
   "metadata": {},
   "outputs": [],
   "source": [
    "adata.obs[\"Age\"] = [44]*adata.n_obs\n",
    "adata.obs[\"Gender\"] = [\"female\"]*adata.n_obs\n",
    "adata.obs[\"Dataset\"] = [\"SRR13482552\"]*adata.n_obs\n",
    "adata.obs"
   ]
  },
  {
   "cell_type": "code",
   "execution_count": null,
   "id": "002dee64",
   "metadata": {},
   "outputs": [],
   "source": [
    "adata.write_h5ad(\"Healthy.h5ad\")"
   ]
  },
  {
   "cell_type": "code",
   "execution_count": null,
   "id": "a6f8df4f",
   "metadata": {},
   "outputs": [],
   "source": []
  },
  {
   "cell_type": "code",
   "execution_count": null,
   "id": "dbe889e2",
   "metadata": {},
   "outputs": [],
   "source": []
  },
  {
   "cell_type": "code",
   "execution_count": null,
   "id": "663b1f7d",
   "metadata": {},
   "outputs": [],
   "source": []
  },
  {
   "cell_type": "code",
   "execution_count": null,
   "id": "9ad65442",
   "metadata": {},
   "outputs": [],
   "source": []
  },
  {
   "cell_type": "markdown",
   "id": "0186fe0e",
   "metadata": {},
   "source": [
    "# 以下是GSE149689所需的code"
   ]
  },
  {
   "cell_type": "code",
   "execution_count": null,
   "id": "2b811af5",
   "metadata": {},
   "outputs": [],
   "source": [
    "# barcode\n",
    "# unfilter data\n",
    "pre = adata.obs_names\n",
    "\n",
    "# extract Healthy Donor from barcode\n",
    "# 這些5 13 14 19是GSE149689中表示healthy donor\n",
    "# $是結尾\n",
    "pattern = r\"-(5|13|14|19)$\"\n",
    "pre_healthy = pre[pre.str.contains(pattern)]\n",
    "\n",
    "\n",
    "pre_healthy"
   ]
  },
  {
   "cell_type": "code",
   "execution_count": null,
   "id": "b73485cd",
   "metadata": {},
   "outputs": [],
   "source": [
    "healthy = adata[adata.obs.index.isin(pre_healthy)]\n",
    "healthy.X"
   ]
  },
  {
   "cell_type": "code",
   "execution_count": null,
   "id": "527abbd0",
   "metadata": {},
   "outputs": [],
   "source": [
    "sc.pp.normalize_total(healthy, target_sum=1e4)"
   ]
  },
  {
   "cell_type": "code",
   "execution_count": null,
   "id": "de56d0f7",
   "metadata": {},
   "outputs": [],
   "source": [
    "sc.pp.log1p(healthy)\n",
    "healthy.raw = healthy\n",
    "healthy"
   ]
  },
  {
   "cell_type": "code",
   "execution_count": null,
   "id": "b619b09c",
   "metadata": {},
   "outputs": [],
   "source": [
    "# linear regression out unwanted sources of variation\n",
    "sc.pp.regress_out(healthy, ['total_counts', 'pct_counts_mt'])"
   ]
  },
  {
   "cell_type": "code",
   "execution_count": null,
   "id": "12260c57",
   "metadata": {},
   "outputs": [],
   "source": [
    "sc.pp.scale(healthy, max_value=10)\n",
    "sc.tl.pca(healthy, svd_solver='arpack')\n",
    "sc.pl.pca_variance_ratio(healthy, log=True)"
   ]
  },
  {
   "cell_type": "code",
   "execution_count": null,
   "id": "20476f10",
   "metadata": {},
   "outputs": [],
   "source": [
    "sc.pp.neighbors(healthy, n_neighbors=10, n_pcs=40)\n",
    "sc.tl.leiden(healthy)"
   ]
  },
  {
   "cell_type": "code",
   "execution_count": null,
   "id": "2ccf2e3c",
   "metadata": {},
   "outputs": [],
   "source": [
    "# default use leiden透過leiden去計算那個gene expression的部分去挑出最後的權重\n",
    "#再多維的空間做hireachecal(階層的)挑選，clustering會越來越少，直到hirachical跟cluster一樣才會結束\n",
    "\n",
    "sc.tl.paga(healthy)\n",
    "sc.pl.paga(healthy)"
   ]
  },
  {
   "cell_type": "code",
   "execution_count": null,
   "id": "e6c37805",
   "metadata": {},
   "outputs": [],
   "source": [
    "sc.tl.umap(healthy, init_pos='paga')\n",
    "sc.pl.umap(healthy, color = \"leiden\")"
   ]
  },
  {
   "cell_type": "code",
   "execution_count": null,
   "id": "1092bbc4",
   "metadata": {},
   "outputs": [],
   "source": [
    "healthy.write_h5ad(\"benson_pbmc_healthy_donor.h5ad\")"
   ]
  },
  {
   "cell_type": "code",
   "execution_count": null,
   "id": "b482b24a",
   "metadata": {},
   "outputs": [],
   "source": [
    "sc.pl.umap(healthy, color = \"leiden\")"
   ]
  },
  {
   "cell_type": "code",
   "execution_count": null,
   "id": "1c0cf5b0",
   "metadata": {},
   "outputs": [],
   "source": [
    "healthy"
   ]
  }
 ],
 "metadata": {
  "kernelspec": {
   "display_name": "Python 3 (ipykernel)",
   "language": "python",
   "name": "python3"
  },
  "language_info": {
   "codemirror_mode": {
    "name": "ipython",
    "version": 3
   },
   "file_extension": ".py",
   "mimetype": "text/x-python",
   "name": "python",
   "nbconvert_exporter": "python",
   "pygments_lexer": "ipython3",
   "version": "3.11.4"
  }
 },
 "nbformat": 4,
 "nbformat_minor": 5
}
